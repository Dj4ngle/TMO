{
 "cells": [
  {
   "cell_type": "code",
   "execution_count": 1,
   "id": "c55f1ed1",
   "metadata": {},
   "outputs": [],
   "source": [
    "import pandas as pd\n",
    "import matplotlib.pyplot as plt\n",
    "import seaborn as sns\n",
    "import numpy as np\n",
    "import math as mth\n",
    "import matplotlib.patches as patches\n",
    "from scipy import stats as st\n",
    "plt.rcParams.update({'figure.max_open_warning': 0})\n",
    "from plotly.offline import init_notebook_mode, iplot\n",
    "import plotly\n",
    "import plotly.graph_objs as go"
   ]
  },
  {
   "cell_type": "code",
   "execution_count": 3,
   "id": "c3f940c4",
   "metadata": {},
   "outputs": [],
   "source": [
    "df = pd.read_csv('gpu_specs_v6.csv')"
   ]
  },
  {
   "cell_type": "code",
   "execution_count": 4,
   "id": "b023bba0",
   "metadata": {},
   "outputs": [
    {
     "data": {
      "text/html": [
       "<div>\n",
       "<style scoped>\n",
       "    .dataframe tbody tr th:only-of-type {\n",
       "        vertical-align: middle;\n",
       "    }\n",
       "\n",
       "    .dataframe tbody tr th {\n",
       "        vertical-align: top;\n",
       "    }\n",
       "\n",
       "    .dataframe thead th {\n",
       "        text-align: right;\n",
       "    }\n",
       "</style>\n",
       "<table border=\"1\" class=\"dataframe\">\n",
       "  <thead>\n",
       "    <tr style=\"text-align: right;\">\n",
       "      <th></th>\n",
       "      <th>manufacturer</th>\n",
       "      <th>productName</th>\n",
       "      <th>releaseYear</th>\n",
       "      <th>memSize</th>\n",
       "      <th>memBusWidth</th>\n",
       "      <th>gpuClock</th>\n",
       "      <th>memClock</th>\n",
       "      <th>unifiedShader</th>\n",
       "      <th>tmu</th>\n",
       "      <th>rop</th>\n",
       "      <th>pixelShader</th>\n",
       "      <th>vertexShader</th>\n",
       "      <th>igp</th>\n",
       "      <th>bus</th>\n",
       "      <th>memType</th>\n",
       "      <th>gpuChip</th>\n",
       "    </tr>\n",
       "  </thead>\n",
       "  <tbody>\n",
       "    <tr>\n",
       "      <th>0</th>\n",
       "      <td>NVIDIA</td>\n",
       "      <td>GeForce RTX 4050</td>\n",
       "      <td>2023.0</td>\n",
       "      <td>8.0</td>\n",
       "      <td>128.0</td>\n",
       "      <td>1925</td>\n",
       "      <td>2250.0</td>\n",
       "      <td>3840.0</td>\n",
       "      <td>120</td>\n",
       "      <td>48</td>\n",
       "      <td>NaN</td>\n",
       "      <td>NaN</td>\n",
       "      <td>No</td>\n",
       "      <td>PCIe 4.0 x16</td>\n",
       "      <td>GDDR6</td>\n",
       "      <td>AD106</td>\n",
       "    </tr>\n",
       "    <tr>\n",
       "      <th>1</th>\n",
       "      <td>Intel</td>\n",
       "      <td>Arc A350M</td>\n",
       "      <td>2022.0</td>\n",
       "      <td>4.0</td>\n",
       "      <td>64.0</td>\n",
       "      <td>300</td>\n",
       "      <td>1500.0</td>\n",
       "      <td>768.0</td>\n",
       "      <td>48</td>\n",
       "      <td>24</td>\n",
       "      <td>NaN</td>\n",
       "      <td>NaN</td>\n",
       "      <td>No</td>\n",
       "      <td>PCIe 4.0 x8</td>\n",
       "      <td>GDDR6</td>\n",
       "      <td>DG2-128</td>\n",
       "    </tr>\n",
       "    <tr>\n",
       "      <th>2</th>\n",
       "      <td>Intel</td>\n",
       "      <td>Arc A370M</td>\n",
       "      <td>2022.0</td>\n",
       "      <td>4.0</td>\n",
       "      <td>64.0</td>\n",
       "      <td>300</td>\n",
       "      <td>1500.0</td>\n",
       "      <td>1024.0</td>\n",
       "      <td>64</td>\n",
       "      <td>32</td>\n",
       "      <td>NaN</td>\n",
       "      <td>NaN</td>\n",
       "      <td>No</td>\n",
       "      <td>PCIe 4.0 x8</td>\n",
       "      <td>GDDR6</td>\n",
       "      <td>DG2-128</td>\n",
       "    </tr>\n",
       "    <tr>\n",
       "      <th>3</th>\n",
       "      <td>Intel</td>\n",
       "      <td>Arc A380</td>\n",
       "      <td>2022.0</td>\n",
       "      <td>4.0</td>\n",
       "      <td>64.0</td>\n",
       "      <td>300</td>\n",
       "      <td>1500.0</td>\n",
       "      <td>1024.0</td>\n",
       "      <td>64</td>\n",
       "      <td>32</td>\n",
       "      <td>NaN</td>\n",
       "      <td>NaN</td>\n",
       "      <td>No</td>\n",
       "      <td>PCIe 4.0 x8</td>\n",
       "      <td>GDDR6</td>\n",
       "      <td>DG2-128</td>\n",
       "    </tr>\n",
       "    <tr>\n",
       "      <th>4</th>\n",
       "      <td>Intel</td>\n",
       "      <td>Arc A550M</td>\n",
       "      <td>2022.0</td>\n",
       "      <td>8.0</td>\n",
       "      <td>128.0</td>\n",
       "      <td>300</td>\n",
       "      <td>1500.0</td>\n",
       "      <td>2048.0</td>\n",
       "      <td>128</td>\n",
       "      <td>64</td>\n",
       "      <td>NaN</td>\n",
       "      <td>NaN</td>\n",
       "      <td>No</td>\n",
       "      <td>PCIe 4.0 x16</td>\n",
       "      <td>GDDR6</td>\n",
       "      <td>DG2-512</td>\n",
       "    </tr>\n",
       "  </tbody>\n",
       "</table>\n",
       "</div>"
      ],
      "text/plain": [
       "  manufacturer       productName  releaseYear  memSize  memBusWidth  gpuClock  \\\n",
       "0       NVIDIA  GeForce RTX 4050       2023.0      8.0        128.0      1925   \n",
       "1        Intel         Arc A350M       2022.0      4.0         64.0       300   \n",
       "2        Intel         Arc A370M       2022.0      4.0         64.0       300   \n",
       "3        Intel          Arc A380       2022.0      4.0         64.0       300   \n",
       "4        Intel         Arc A550M       2022.0      8.0        128.0       300   \n",
       "\n",
       "   memClock  unifiedShader  tmu  rop  pixelShader  vertexShader igp  \\\n",
       "0    2250.0         3840.0  120   48          NaN           NaN  No   \n",
       "1    1500.0          768.0   48   24          NaN           NaN  No   \n",
       "2    1500.0         1024.0   64   32          NaN           NaN  No   \n",
       "3    1500.0         1024.0   64   32          NaN           NaN  No   \n",
       "4    1500.0         2048.0  128   64          NaN           NaN  No   \n",
       "\n",
       "            bus memType  gpuChip  \n",
       "0  PCIe 4.0 x16   GDDR6    AD106  \n",
       "1   PCIe 4.0 x8   GDDR6  DG2-128  \n",
       "2   PCIe 4.0 x8   GDDR6  DG2-128  \n",
       "3   PCIe 4.0 x8   GDDR6  DG2-128  \n",
       "4  PCIe 4.0 x16   GDDR6  DG2-512  "
      ]
     },
     "execution_count": 4,
     "metadata": {},
     "output_type": "execute_result"
    }
   ],
   "source": [
    "df.head()"
   ]
  },
  {
   "cell_type": "code",
   "execution_count": 5,
   "id": "72beab2d",
   "metadata": {},
   "outputs": [
    {
     "name": "stdout",
     "output_type": "stream",
     "text": [
      "<class 'pandas.core.frame.DataFrame'>\n",
      "RangeIndex: 2889 entries, 0 to 2888\n",
      "Data columns (total 16 columns):\n",
      " #   Column         Non-Null Count  Dtype  \n",
      "---  ------         --------------  -----  \n",
      " 0   manufacturer   2889 non-null   object \n",
      " 1   productName    2889 non-null   object \n",
      " 2   releaseYear    2845 non-null   float64\n",
      " 3   memSize        2477 non-null   float64\n",
      " 4   memBusWidth    2477 non-null   float64\n",
      " 5   gpuClock       2889 non-null   int64  \n",
      " 6   memClock       2477 non-null   float64\n",
      " 7   unifiedShader  2065 non-null   float64\n",
      " 8   tmu            2889 non-null   int64  \n",
      " 9   rop            2889 non-null   int64  \n",
      " 10  pixelShader    824 non-null    float64\n",
      " 11  vertexShader   824 non-null    float64\n",
      " 12  igp            2889 non-null   object \n",
      " 13  bus            2889 non-null   object \n",
      " 14  memType        2889 non-null   object \n",
      " 15  gpuChip        2889 non-null   object \n",
      "dtypes: float64(7), int64(3), object(6)\n",
      "memory usage: 361.2+ KB\n"
     ]
    }
   ],
   "source": [
    "df.info()"
   ]
  },
  {
   "cell_type": "code",
   "execution_count": 6,
   "id": "0a44f24f",
   "metadata": {},
   "outputs": [
    {
     "data": {
      "text/html": [
       "<div>\n",
       "<style scoped>\n",
       "    .dataframe tbody tr th:only-of-type {\n",
       "        vertical-align: middle;\n",
       "    }\n",
       "\n",
       "    .dataframe tbody tr th {\n",
       "        vertical-align: top;\n",
       "    }\n",
       "\n",
       "    .dataframe thead th {\n",
       "        text-align: right;\n",
       "    }\n",
       "</style>\n",
       "<table border=\"1\" class=\"dataframe\">\n",
       "  <thead>\n",
       "    <tr style=\"text-align: right;\">\n",
       "      <th></th>\n",
       "      <th>count</th>\n",
       "      <th>mean</th>\n",
       "      <th>std</th>\n",
       "      <th>min</th>\n",
       "      <th>25%</th>\n",
       "      <th>50%</th>\n",
       "      <th>75%</th>\n",
       "      <th>max</th>\n",
       "    </tr>\n",
       "  </thead>\n",
       "  <tbody>\n",
       "    <tr>\n",
       "      <th>releaseYear</th>\n",
       "      <td>2845.0</td>\n",
       "      <td>2010.691388</td>\n",
       "      <td>6.193125</td>\n",
       "      <td>1986.000000</td>\n",
       "      <td>2006.000</td>\n",
       "      <td>2011.000</td>\n",
       "      <td>2015.0</td>\n",
       "      <td>2023.0</td>\n",
       "    </tr>\n",
       "    <tr>\n",
       "      <th>memSize</th>\n",
       "      <td>2477.0</td>\n",
       "      <td>3.113803</td>\n",
       "      <td>7.175399</td>\n",
       "      <td>0.000032</td>\n",
       "      <td>0.256</td>\n",
       "      <td>1.024</td>\n",
       "      <td>3.0</td>\n",
       "      <td>128.0</td>\n",
       "    </tr>\n",
       "    <tr>\n",
       "      <th>memBusWidth</th>\n",
       "      <td>2477.0</td>\n",
       "      <td>274.874445</td>\n",
       "      <td>653.163896</td>\n",
       "      <td>32.000000</td>\n",
       "      <td>128.000</td>\n",
       "      <td>128.000</td>\n",
       "      <td>256.0</td>\n",
       "      <td>8192.0</td>\n",
       "    </tr>\n",
       "    <tr>\n",
       "      <th>gpuClock</th>\n",
       "      <td>2889.0</td>\n",
       "      <td>661.126687</td>\n",
       "      <td>374.481450</td>\n",
       "      <td>10.000000</td>\n",
       "      <td>400.000</td>\n",
       "      <td>600.000</td>\n",
       "      <td>875.0</td>\n",
       "      <td>2331.0</td>\n",
       "    </tr>\n",
       "    <tr>\n",
       "      <th>memClock</th>\n",
       "      <td>2477.0</td>\n",
       "      <td>868.578119</td>\n",
       "      <td>509.987396</td>\n",
       "      <td>5.000000</td>\n",
       "      <td>400.000</td>\n",
       "      <td>837.000</td>\n",
       "      <td>1250.0</td>\n",
       "      <td>2257.0</td>\n",
       "    </tr>\n",
       "    <tr>\n",
       "      <th>unifiedShader</th>\n",
       "      <td>2065.0</td>\n",
       "      <td>1032.937530</td>\n",
       "      <td>1662.834618</td>\n",
       "      <td>8.000000</td>\n",
       "      <td>144.000</td>\n",
       "      <td>384.000</td>\n",
       "      <td>1280.0</td>\n",
       "      <td>17408.0</td>\n",
       "    </tr>\n",
       "    <tr>\n",
       "      <th>tmu</th>\n",
       "      <td>2889.0</td>\n",
       "      <td>47.429214</td>\n",
       "      <td>73.014849</td>\n",
       "      <td>0.000000</td>\n",
       "      <td>8.000</td>\n",
       "      <td>20.000</td>\n",
       "      <td>56.0</td>\n",
       "      <td>880.0</td>\n",
       "    </tr>\n",
       "    <tr>\n",
       "      <th>rop</th>\n",
       "      <td>2889.0</td>\n",
       "      <td>18.750087</td>\n",
       "      <td>25.067896</td>\n",
       "      <td>0.000000</td>\n",
       "      <td>4.000</td>\n",
       "      <td>8.000</td>\n",
       "      <td>24.0</td>\n",
       "      <td>256.0</td>\n",
       "    </tr>\n",
       "    <tr>\n",
       "      <th>pixelShader</th>\n",
       "      <td>824.0</td>\n",
       "      <td>6.739078</td>\n",
       "      <td>8.091586</td>\n",
       "      <td>0.000000</td>\n",
       "      <td>2.000</td>\n",
       "      <td>4.000</td>\n",
       "      <td>8.0</td>\n",
       "      <td>48.0</td>\n",
       "    </tr>\n",
       "    <tr>\n",
       "      <th>vertexShader</th>\n",
       "      <td>824.0</td>\n",
       "      <td>2.622573</td>\n",
       "      <td>2.579388</td>\n",
       "      <td>0.000000</td>\n",
       "      <td>0.000</td>\n",
       "      <td>2.000</td>\n",
       "      <td>4.0</td>\n",
       "      <td>24.0</td>\n",
       "    </tr>\n",
       "  </tbody>\n",
       "</table>\n",
       "</div>"
      ],
      "text/plain": [
       "                count         mean          std          min       25%  \\\n",
       "releaseYear    2845.0  2010.691388     6.193125  1986.000000  2006.000   \n",
       "memSize        2477.0     3.113803     7.175399     0.000032     0.256   \n",
       "memBusWidth    2477.0   274.874445   653.163896    32.000000   128.000   \n",
       "gpuClock       2889.0   661.126687   374.481450    10.000000   400.000   \n",
       "memClock       2477.0   868.578119   509.987396     5.000000   400.000   \n",
       "unifiedShader  2065.0  1032.937530  1662.834618     8.000000   144.000   \n",
       "tmu            2889.0    47.429214    73.014849     0.000000     8.000   \n",
       "rop            2889.0    18.750087    25.067896     0.000000     4.000   \n",
       "pixelShader     824.0     6.739078     8.091586     0.000000     2.000   \n",
       "vertexShader    824.0     2.622573     2.579388     0.000000     0.000   \n",
       "\n",
       "                    50%     75%      max  \n",
       "releaseYear    2011.000  2015.0   2023.0  \n",
       "memSize           1.024     3.0    128.0  \n",
       "memBusWidth     128.000   256.0   8192.0  \n",
       "gpuClock        600.000   875.0   2331.0  \n",
       "memClock        837.000  1250.0   2257.0  \n",
       "unifiedShader   384.000  1280.0  17408.0  \n",
       "tmu              20.000    56.0    880.0  \n",
       "rop               8.000    24.0    256.0  \n",
       "pixelShader       4.000     8.0     48.0  \n",
       "vertexShader      2.000     4.0     24.0  "
      ]
     },
     "execution_count": 6,
     "metadata": {},
     "output_type": "execute_result"
    }
   ],
   "source": [
    "df.describe().T"
   ]
  },
  {
   "cell_type": "code",
   "execution_count": 7,
   "id": "6a0bd4b6",
   "metadata": {},
   "outputs": [
    {
     "data": {
      "text/plain": [
       "manufacturer        0\n",
       "productName         0\n",
       "releaseYear        44\n",
       "memSize           412\n",
       "memBusWidth       412\n",
       "gpuClock            0\n",
       "memClock          412\n",
       "unifiedShader     824\n",
       "tmu                 0\n",
       "rop                 0\n",
       "pixelShader      2065\n",
       "vertexShader     2065\n",
       "igp                 0\n",
       "bus                 0\n",
       "memType             0\n",
       "gpuChip             0\n",
       "dtype: int64"
      ]
     },
     "execution_count": 7,
     "metadata": {},
     "output_type": "execute_result"
    }
   ],
   "source": [
    "df.isna().sum()"
   ]
  },
  {
   "cell_type": "code",
   "execution_count": 8,
   "id": "974b981a",
   "metadata": {},
   "outputs": [],
   "source": [
    "columns_to_replace = ['memSize', 'memBusWidth', 'memClock', 'unifiedShader', 'pixelShader', 'vertexShader']\n",
    "for column in columns_to_replace:\n",
    "    df[column] = df[column].fillna(0)"
   ]
  },
  {
   "cell_type": "code",
   "execution_count": 9,
   "id": "a52425ca",
   "metadata": {},
   "outputs": [
    {
     "data": {
      "text/plain": [
       "manufacturer      0\n",
       "productName       0\n",
       "releaseYear      44\n",
       "memSize           0\n",
       "memBusWidth       0\n",
       "gpuClock          0\n",
       "memClock          0\n",
       "unifiedShader     0\n",
       "tmu               0\n",
       "rop               0\n",
       "pixelShader       0\n",
       "vertexShader      0\n",
       "igp               0\n",
       "bus               0\n",
       "memType           0\n",
       "gpuChip           0\n",
       "dtype: int64"
      ]
     },
     "execution_count": 9,
     "metadata": {},
     "output_type": "execute_result"
    }
   ],
   "source": [
    "df.isna().sum()"
   ]
  },
  {
   "cell_type": "code",
   "execution_count": 10,
   "id": "b1101d27",
   "metadata": {},
   "outputs": [
    {
     "name": "stdout",
     "output_type": "stream",
     "text": [
      "Пропущенных значений в releaseYear: 1.5%\n"
     ]
    }
   ],
   "source": [
    "year = 1-len(df['releaseYear'].dropna())/len(df)\n",
    "print('Пропущенных значений в releaseYear: {:.1%}'.format(year))"
   ]
  },
  {
   "cell_type": "code",
   "execution_count": 11,
   "id": "998a67f3",
   "metadata": {},
   "outputs": [
    {
     "data": {
      "text/plain": [
       "manufacturer     0\n",
       "productName      0\n",
       "releaseYear      0\n",
       "memSize          0\n",
       "memBusWidth      0\n",
       "gpuClock         0\n",
       "memClock         0\n",
       "unifiedShader    0\n",
       "tmu              0\n",
       "rop              0\n",
       "pixelShader      0\n",
       "vertexShader     0\n",
       "igp              0\n",
       "bus              0\n",
       "memType          0\n",
       "gpuChip          0\n",
       "dtype: int64"
      ]
     },
     "execution_count": 11,
     "metadata": {},
     "output_type": "execute_result"
    }
   ],
   "source": [
    "df.dropna(subset=['releaseYear'],inplace = True, axis = 0)\n",
    "df.isna().sum()"
   ]
  },
  {
   "cell_type": "code",
   "execution_count": 12,
   "id": "10aea95d",
   "metadata": {},
   "outputs": [
    {
     "data": {
      "text/plain": [
       "Index(['manufacturer', 'productName', 'releaseYear', 'memSize', 'memBusWidth',\n",
       "       'gpuClock', 'memClock', 'unifiedShader', 'tmu', 'rop', 'pixelShader',\n",
       "       'vertexShader', 'igp', 'bus', 'memType', 'gpuChip'],\n",
       "      dtype='object')"
      ]
     },
     "execution_count": 12,
     "metadata": {},
     "output_type": "execute_result"
    }
   ],
   "source": [
    "df.columns"
   ]
  },
  {
   "cell_type": "code",
   "execution_count": 13,
   "id": "a7683379",
   "metadata": {},
   "outputs": [
    {
     "data": {
      "text/plain": [
       "Index(['manufacturer', 'productname', 'releaseyear', 'memsize', 'membuswidth',\n",
       "       'gpuclock', 'memclock', 'unifiedshader', 'tmu', 'rop', 'pixelshader',\n",
       "       'vertexshader', 'igp', 'bus', 'memtype', 'gpuchip'],\n",
       "      dtype='object')"
      ]
     },
     "execution_count": 13,
     "metadata": {},
     "output_type": "execute_result"
    }
   ],
   "source": [
    "df.columns = df.columns.str.lower()\n",
    "df.columns"
   ]
  },
  {
   "cell_type": "code",
   "execution_count": 14,
   "id": "c153bf85",
   "metadata": {},
   "outputs": [
    {
     "data": {
      "text/plain": [
       "32"
      ]
     },
     "execution_count": 14,
     "metadata": {},
     "output_type": "execute_result"
    }
   ],
   "source": [
    "df.duplicated().sum()"
   ]
  },
  {
   "cell_type": "code",
   "execution_count": 15,
   "id": "786a6394",
   "metadata": {},
   "outputs": [],
   "source": [
    "df = df.drop_duplicates()"
   ]
  },
  {
   "cell_type": "code",
   "execution_count": 16,
   "id": "423da9c2",
   "metadata": {},
   "outputs": [
    {
     "data": {
      "text/plain": [
       "0"
      ]
     },
     "execution_count": 16,
     "metadata": {},
     "output_type": "execute_result"
    }
   ],
   "source": [
    "df.duplicated().sum()"
   ]
  },
  {
   "cell_type": "code",
   "execution_count": 17,
   "id": "541fb7cc",
   "metadata": {},
   "outputs": [
    {
     "name": "stdout",
     "output_type": "stream",
     "text": [
      "<class 'pandas.core.frame.DataFrame'>\n",
      "Int64Index: 2813 entries, 0 to 2844\n",
      "Data columns (total 16 columns):\n",
      " #   Column         Non-Null Count  Dtype  \n",
      "---  ------         --------------  -----  \n",
      " 0   manufacturer   2813 non-null   object \n",
      " 1   productname    2813 non-null   object \n",
      " 2   releaseyear    2813 non-null   float64\n",
      " 3   memsize        2813 non-null   float64\n",
      " 4   membuswidth    2813 non-null   float64\n",
      " 5   gpuclock       2813 non-null   int64  \n",
      " 6   memclock       2813 non-null   float64\n",
      " 7   unifiedshader  2813 non-null   float64\n",
      " 8   tmu            2813 non-null   int64  \n",
      " 9   rop            2813 non-null   int64  \n",
      " 10  pixelshader    2813 non-null   float64\n",
      " 11  vertexshader   2813 non-null   float64\n",
      " 12  igp            2813 non-null   object \n",
      " 13  bus            2813 non-null   object \n",
      " 14  memtype        2813 non-null   object \n",
      " 15  gpuchip        2813 non-null   object \n",
      "dtypes: float64(7), int64(3), object(6)\n",
      "memory usage: 1.3 MB\n"
     ]
    }
   ],
   "source": [
    "df.info(memory_usage='deep')"
   ]
  },
  {
   "cell_type": "code",
   "execution_count": 18,
   "id": "112c2dd8",
   "metadata": {},
   "outputs": [
    {
     "name": "stdout",
     "output_type": "stream",
     "text": [
      "Averege memory usage for float columns: 21.977 KB\n",
      "Averege memory usage for int columns: 21.977 KB\n",
      "Averege memory usage for object columns: 154.683 KB\n"
     ]
    }
   ],
   "source": [
    "for dtype in ['float','int','object']:\n",
    "    selected_dtype = df.select_dtypes(include=[dtype])\n",
    "    mean_usage_b = selected_dtype.memory_usage(deep=True).mean()\n",
    "    mean_usage_mb = mean_usage_b / 1024\n",
    "    print(\"Averege memory usage for {} columns: {:03.3f} KB\".format(dtype, mean_usage_mb))"
   ]
  },
  {
   "cell_type": "code",
   "execution_count": 20,
   "id": "59e4a33a",
   "metadata": {},
   "outputs": [],
   "source": [
    "def mem_usage(pandas_obj):\n",
    "    if isinstance(pandas_obj,pd.DataFrame):\n",
    "        usage_b = pandas_obj.memory_usage(deep=True).sum()\n",
    "    else: # Если не DataFrame, то Series\n",
    "        usage_b = pandas.memory_usage(deep = True)\n",
    "    usage_mb = usage_b / 1024 # преобразование байтов в КБ\n",
    "    return \"{:03.3f} KB\".format(usage_mb)"
   ]
  },
  {
   "cell_type": "code",
   "execution_count": 25,
   "id": "f049f913",
   "metadata": {},
   "outputs": [
    {
     "name": "stdout",
     "output_type": "stream",
     "text": [
      "87.906 KB\n",
      "38.459 KB\n"
     ]
    },
    {
     "data": {
      "text/html": [
       "<div>\n",
       "<style scoped>\n",
       "    .dataframe tbody tr th:only-of-type {\n",
       "        vertical-align: middle;\n",
       "    }\n",
       "\n",
       "    .dataframe tbody tr th {\n",
       "        vertical-align: top;\n",
       "    }\n",
       "\n",
       "    .dataframe thead th {\n",
       "        text-align: right;\n",
       "    }\n",
       "</style>\n",
       "<table border=\"1\" class=\"dataframe\">\n",
       "  <thead>\n",
       "    <tr style=\"text-align: right;\">\n",
       "      <th></th>\n",
       "      <th>before</th>\n",
       "      <th>after</th>\n",
       "    </tr>\n",
       "  </thead>\n",
       "  <tbody>\n",
       "    <tr>\n",
       "      <th>uint16</th>\n",
       "      <td>NaN</td>\n",
       "      <td>3.0</td>\n",
       "    </tr>\n",
       "    <tr>\n",
       "      <th>int64</th>\n",
       "      <td>3.0</td>\n",
       "      <td>NaN</td>\n",
       "    </tr>\n",
       "  </tbody>\n",
       "</table>\n",
       "</div>"
      ],
      "text/plain": [
       "        before  after\n",
       "uint16     NaN    3.0\n",
       "int64      3.0    NaN"
      ]
     },
     "execution_count": 25,
     "metadata": {},
     "output_type": "execute_result"
    }
   ],
   "source": [
    "df_int = df.select_dtypes(include=['int'])\n",
    "converted_int = df_int.apply(pd.to_numeric,downcast='unsigned')\n",
    "\n",
    "print(mem_usage(df_int))\n",
    "print(mem_usage(converted_int))\n",
    "\n",
    "compare_ints = pd.concat([df_int.dtypes,converted_int.dtypes],axis=1)\n",
    "compare_ints.columns = ['before','after']\n",
    "compare_ints.apply(pd.Series.value_counts)"
   ]
  },
  {
   "cell_type": "code",
   "execution_count": 26,
   "id": "7d1b03cb",
   "metadata": {},
   "outputs": [
    {
     "name": "stdout",
     "output_type": "stream",
     "text": [
      "175.812 KB\n",
      "98.895 KB\n"
     ]
    },
    {
     "data": {
      "text/html": [
       "<div>\n",
       "<style scoped>\n",
       "    .dataframe tbody tr th:only-of-type {\n",
       "        vertical-align: middle;\n",
       "    }\n",
       "\n",
       "    .dataframe tbody tr th {\n",
       "        vertical-align: top;\n",
       "    }\n",
       "\n",
       "    .dataframe thead th {\n",
       "        text-align: right;\n",
       "    }\n",
       "</style>\n",
       "<table border=\"1\" class=\"dataframe\">\n",
       "  <thead>\n",
       "    <tr style=\"text-align: right;\">\n",
       "      <th></th>\n",
       "      <th>before</th>\n",
       "      <th>after</th>\n",
       "    </tr>\n",
       "  </thead>\n",
       "  <tbody>\n",
       "    <tr>\n",
       "      <th>float32</th>\n",
       "      <td>NaN</td>\n",
       "      <td>7.0</td>\n",
       "    </tr>\n",
       "    <tr>\n",
       "      <th>float64</th>\n",
       "      <td>7.0</td>\n",
       "      <td>NaN</td>\n",
       "    </tr>\n",
       "  </tbody>\n",
       "</table>\n",
       "</div>"
      ],
      "text/plain": [
       "         before  after\n",
       "float32     NaN    7.0\n",
       "float64     7.0    NaN"
      ]
     },
     "execution_count": 26,
     "metadata": {},
     "output_type": "execute_result"
    }
   ],
   "source": [
    "df_float = df.select_dtypes(in clude=['float'])\n",
    "converted_float = df_float.apply(pd.to_numeric,downcast='float')\n",
    "\n",
    "print(mem_usage(df_float))\n",
    "print(mem_usage(converted_float))\n",
    "\n",
    "compare_floats = pd.concat([df_float.dtypes,converted_float.dtypes],axis=1)\n",
    "compare_floats.columns = ['before','after']\n",
    "compare_floats.apply(pd.Series.value_counts)"
   ]
  },
  {
   "cell_type": "code",
   "execution_count": 27,
   "id": "78ef3701",
   "metadata": {},
   "outputs": [
    {
     "name": "stdout",
     "output_type": "stream",
     "text": [
      "1302.544 KB\n",
      "1176.179 KB\n"
     ]
    }
   ],
   "source": [
    "optimized_df = df.copy()\n",
    "\n",
    "optimized_df[converted_int.columns] = converted_int\n",
    "optimized_df[converted_float.columns] = converted_float\n",
    "\n",
    "print(mem_usage(df))\n",
    "print(mem_usage(optimized_df))"
   ]
  },
  {
   "cell_type": "code",
   "execution_count": 28,
   "id": "f3f9776f",
   "metadata": {},
   "outputs": [
    {
     "data": {
      "text/html": [
       "<div>\n",
       "<style scoped>\n",
       "    .dataframe tbody tr th:only-of-type {\n",
       "        vertical-align: middle;\n",
       "    }\n",
       "\n",
       "    .dataframe tbody tr th {\n",
       "        vertical-align: top;\n",
       "    }\n",
       "\n",
       "    .dataframe thead th {\n",
       "        text-align: right;\n",
       "    }\n",
       "</style>\n",
       "<table border=\"1\" class=\"dataframe\">\n",
       "  <thead>\n",
       "    <tr style=\"text-align: right;\">\n",
       "      <th></th>\n",
       "      <th>count</th>\n",
       "      <th>unique</th>\n",
       "      <th>top</th>\n",
       "      <th>freq</th>\n",
       "    </tr>\n",
       "  </thead>\n",
       "  <tbody>\n",
       "    <tr>\n",
       "      <th>manufacturer</th>\n",
       "      <td>2813</td>\n",
       "      <td>8</td>\n",
       "      <td>NVIDIA</td>\n",
       "      <td>1256</td>\n",
       "    </tr>\n",
       "    <tr>\n",
       "      <th>productname</th>\n",
       "      <td>2813</td>\n",
       "      <td>2541</td>\n",
       "      <td>HD Graphics</td>\n",
       "      <td>9</td>\n",
       "    </tr>\n",
       "    <tr>\n",
       "      <th>igp</th>\n",
       "      <td>2813</td>\n",
       "      <td>2</td>\n",
       "      <td>No</td>\n",
       "      <td>2423</td>\n",
       "    </tr>\n",
       "    <tr>\n",
       "      <th>bus</th>\n",
       "      <td>2813</td>\n",
       "      <td>30</td>\n",
       "      <td>PCIe 2.0 x16</td>\n",
       "      <td>552</td>\n",
       "    </tr>\n",
       "    <tr>\n",
       "      <th>memtype</th>\n",
       "      <td>2813</td>\n",
       "      <td>27</td>\n",
       "      <td>GDDR5</td>\n",
       "      <td>711</td>\n",
       "    </tr>\n",
       "    <tr>\n",
       "      <th>gpuchip</th>\n",
       "      <td>2813</td>\n",
       "      <td>470</td>\n",
       "      <td>GK104</td>\n",
       "      <td>51</td>\n",
       "    </tr>\n",
       "  </tbody>\n",
       "</table>\n",
       "</div>"
      ],
      "text/plain": [
       "             count unique           top  freq\n",
       "manufacturer  2813      8        NVIDIA  1256\n",
       "productname   2813   2541   HD Graphics     9\n",
       "igp           2813      2            No  2423\n",
       "bus           2813     30  PCIe 2.0 x16   552\n",
       "memtype       2813     27         GDDR5   711\n",
       "gpuchip       2813    470         GK104    51"
      ]
     },
     "execution_count": 28,
     "metadata": {},
     "output_type": "execute_result"
    }
   ],
   "source": [
    "df_obj = df.select_dtypes(include=['object']).copy()\n",
    "df_obj.describe().T"
   ]
  },
  {
   "cell_type": "code",
   "execution_count": 30,
   "id": "56b7e8d0",
   "metadata": {},
   "outputs": [],
   "source": [
    "converted_obj = pd.DataFrame()\n",
    "for col in df_obj.columns:\n",
    "    num_unique_values = len(df_obj[col].unique())\n",
    "    num_total_values = len(df_obj[col])\n",
    "    if num_unique_values / num_total_values < 0.5:\n",
    "        converted_obj.loc[:,col] = df_obj[col].astype('category')\n",
    "    else:\n",
    "        converted_obj.loc[:,col] = df_obj[col]"
   ]
  },
  {
   "cell_type": "code",
   "execution_count": 31,
   "id": "d67f388e",
   "metadata": {},
   "outputs": [
    {
     "name": "stdout",
     "output_type": "stream",
     "text": [
      "1082.778 KB\n",
      "292.808 KB\n"
     ]
    },
    {
     "data": {
      "text/html": [
       "<div>\n",
       "<style scoped>\n",
       "    .dataframe tbody tr th:only-of-type {\n",
       "        vertical-align: middle;\n",
       "    }\n",
       "\n",
       "    .dataframe tbody tr th {\n",
       "        vertical-align: top;\n",
       "    }\n",
       "\n",
       "    .dataframe thead th {\n",
       "        text-align: right;\n",
       "    }\n",
       "</style>\n",
       "<table border=\"1\" class=\"dataframe\">\n",
       "  <thead>\n",
       "    <tr style=\"text-align: right;\">\n",
       "      <th></th>\n",
       "      <th>before</th>\n",
       "      <th>after</th>\n",
       "    </tr>\n",
       "  </thead>\n",
       "  <tbody>\n",
       "    <tr>\n",
       "      <th>object</th>\n",
       "      <td>6.0</td>\n",
       "      <td>1</td>\n",
       "    </tr>\n",
       "    <tr>\n",
       "      <th>category</th>\n",
       "      <td>NaN</td>\n",
       "      <td>1</td>\n",
       "    </tr>\n",
       "    <tr>\n",
       "      <th>category</th>\n",
       "      <td>NaN</td>\n",
       "      <td>1</td>\n",
       "    </tr>\n",
       "    <tr>\n",
       "      <th>category</th>\n",
       "      <td>NaN</td>\n",
       "      <td>1</td>\n",
       "    </tr>\n",
       "    <tr>\n",
       "      <th>category</th>\n",
       "      <td>NaN</td>\n",
       "      <td>1</td>\n",
       "    </tr>\n",
       "    <tr>\n",
       "      <th>category</th>\n",
       "      <td>NaN</td>\n",
       "      <td>1</td>\n",
       "    </tr>\n",
       "  </tbody>\n",
       "</table>\n",
       "</div>"
      ],
      "text/plain": [
       "          before  after\n",
       "object       6.0      1\n",
       "category     NaN      1\n",
       "category     NaN      1\n",
       "category     NaN      1\n",
       "category     NaN      1\n",
       "category     NaN      1"
      ]
     },
     "execution_count": 31,
     "metadata": {},
     "output_type": "execute_result"
    }
   ],
   "source": [
    "print(mem_usage(df_obj))\n",
    "print(mem_usage(converted_obj))\n",
    "\n",
    "compare_obj = pd.concat([df_obj.dtypes,converted_obj.dtypes],axis=1)\n",
    "compare_obj.columns = ['before','after']\n",
    "compare_obj.apply(pd.Series.value_counts)"
   ]
  },
  {
   "cell_type": "code",
   "execution_count": 32,
   "id": "64d8f66d",
   "metadata": {},
   "outputs": [
    {
     "data": {
      "text/plain": [
       "'386.208 KB'"
      ]
     },
     "execution_count": 32,
     "metadata": {},
     "output_type": "execute_result"
    }
   ],
   "source": [
    "optimized_df[converted_obj.columns] = converted_obj\n",
    "mem_usage(optimized_df)"
   ]
  },
  {
   "cell_type": "code",
   "execution_count": 33,
   "id": "7c789607",
   "metadata": {},
   "outputs": [],
   "source": [
    "df = optimized_df"
   ]
  },
  {
   "cell_type": "code",
   "execution_count": 34,
   "id": "ccff54fd",
   "metadata": {},
   "outputs": [
    {
     "name": "stdout",
     "output_type": "stream",
     "text": [
      "<class 'pandas.core.frame.DataFrame'>\n",
      "Int64Index: 2813 entries, 0 to 2844\n",
      "Data columns (total 16 columns):\n",
      " #   Column         Non-Null Count  Dtype   \n",
      "---  ------         --------------  -----   \n",
      " 0   manufacturer   2813 non-null   category\n",
      " 1   productname    2813 non-null   object  \n",
      " 2   releaseyear    2813 non-null   float32 \n",
      " 3   memsize        2813 non-null   float32 \n",
      " 4   membuswidth    2813 non-null   float32 \n",
      " 5   gpuclock       2813 non-null   uint16  \n",
      " 6   memclock       2813 non-null   float32 \n",
      " 7   unifiedshader  2813 non-null   float32 \n",
      " 8   tmu            2813 non-null   uint16  \n",
      " 9   rop            2813 non-null   uint16  \n",
      " 10  pixelshader    2813 non-null   float32 \n",
      " 11  vertexshader   2813 non-null   float32 \n",
      " 12  igp            2813 non-null   category\n",
      " 13  bus            2813 non-null   category\n",
      " 14  memtype        2813 non-null   category\n",
      " 15  gpuchip        2813 non-null   category\n",
      "dtypes: category(5), float32(7), object(1), uint16(3)\n",
      "memory usage: 386.2 KB\n"
     ]
    }
   ],
   "source": [
    "df.info(memory_usage='deep')"
   ]
  },
  {
   "cell_type": "code",
   "execution_count": 35,
   "id": "43282da9",
   "metadata": {},
   "outputs": [
    {
     "data": {
      "text/html": [
       "<div>\n",
       "<style scoped>\n",
       "    .dataframe tbody tr th:only-of-type {\n",
       "        vertical-align: middle;\n",
       "    }\n",
       "\n",
       "    .dataframe tbody tr th {\n",
       "        vertical-align: top;\n",
       "    }\n",
       "\n",
       "    .dataframe thead th {\n",
       "        text-align: right;\n",
       "    }\n",
       "</style>\n",
       "<table border=\"1\" class=\"dataframe\">\n",
       "  <thead>\n",
       "    <tr style=\"text-align: right;\">\n",
       "      <th></th>\n",
       "      <th>manufacturer</th>\n",
       "      <th>productname</th>\n",
       "      <th>releaseyear</th>\n",
       "      <th>memsize</th>\n",
       "      <th>membuswidth</th>\n",
       "      <th>gpuclock</th>\n",
       "      <th>memclock</th>\n",
       "      <th>unifiedshader</th>\n",
       "      <th>tmu</th>\n",
       "      <th>rop</th>\n",
       "      <th>pixelshader</th>\n",
       "      <th>vertexshader</th>\n",
       "      <th>igp</th>\n",
       "      <th>bus</th>\n",
       "      <th>memtype</th>\n",
       "      <th>gpuchip</th>\n",
       "    </tr>\n",
       "  </thead>\n",
       "  <tbody>\n",
       "    <tr>\n",
       "      <th>425</th>\n",
       "      <td>Intel</td>\n",
       "      <td>UHD Graphics 620</td>\n",
       "      <td>2018.0</td>\n",
       "      <td>0.000</td>\n",
       "      <td>0.0</td>\n",
       "      <td>300</td>\n",
       "      <td>0.0</td>\n",
       "      <td>192.0</td>\n",
       "      <td>24</td>\n",
       "      <td>3</td>\n",
       "      <td>0.0</td>\n",
       "      <td>0.0</td>\n",
       "      <td>Yes</td>\n",
       "      <td>Ring Bus</td>\n",
       "      <td>System Shared</td>\n",
       "      <td>Whiskey Lake GT2</td>\n",
       "    </tr>\n",
       "    <tr>\n",
       "      <th>2531</th>\n",
       "      <td>ATI</td>\n",
       "      <td>Mobility Radeon 9000 IGP</td>\n",
       "      <td>2003.0</td>\n",
       "      <td>0.000</td>\n",
       "      <td>0.0</td>\n",
       "      <td>300</td>\n",
       "      <td>0.0</td>\n",
       "      <td>0.0</td>\n",
       "      <td>2</td>\n",
       "      <td>2</td>\n",
       "      <td>2.0</td>\n",
       "      <td>1.0</td>\n",
       "      <td>Yes</td>\n",
       "      <td>AGP 8x</td>\n",
       "      <td>System Shared</td>\n",
       "      <td>RS300</td>\n",
       "    </tr>\n",
       "    <tr>\n",
       "      <th>1089</th>\n",
       "      <td>AMD</td>\n",
       "      <td>Radeon HD 8310G IGP</td>\n",
       "      <td>2013.0</td>\n",
       "      <td>0.000</td>\n",
       "      <td>0.0</td>\n",
       "      <td>424</td>\n",
       "      <td>0.0</td>\n",
       "      <td>128.0</td>\n",
       "      <td>8</td>\n",
       "      <td>4</td>\n",
       "      <td>0.0</td>\n",
       "      <td>0.0</td>\n",
       "      <td>Yes</td>\n",
       "      <td>IGP</td>\n",
       "      <td>System Shared</td>\n",
       "      <td>Scrapper Lite</td>\n",
       "    </tr>\n",
       "    <tr>\n",
       "      <th>2790</th>\n",
       "      <td>ATI</td>\n",
       "      <td>Rage 128 VR PCI</td>\n",
       "      <td>1998.0</td>\n",
       "      <td>0.032</td>\n",
       "      <td>64.0</td>\n",
       "      <td>80</td>\n",
       "      <td>125.0</td>\n",
       "      <td>0.0</td>\n",
       "      <td>2</td>\n",
       "      <td>2</td>\n",
       "      <td>2.0</td>\n",
       "      <td>0.0</td>\n",
       "      <td>No</td>\n",
       "      <td>PCI</td>\n",
       "      <td>DDR</td>\n",
       "      <td>Rage 4</td>\n",
       "    </tr>\n",
       "    <tr>\n",
       "      <th>1385</th>\n",
       "      <td>NVIDIA</td>\n",
       "      <td>GeForce GT 520 PCI</td>\n",
       "      <td>2011.0</td>\n",
       "      <td>1.024</td>\n",
       "      <td>64.0</td>\n",
       "      <td>810</td>\n",
       "      <td>900.0</td>\n",
       "      <td>48.0</td>\n",
       "      <td>8</td>\n",
       "      <td>4</td>\n",
       "      <td>0.0</td>\n",
       "      <td>0.0</td>\n",
       "      <td>No</td>\n",
       "      <td>PCI</td>\n",
       "      <td>DDR3</td>\n",
       "      <td>GF119</td>\n",
       "    </tr>\n",
       "    <tr>\n",
       "      <th>104</th>\n",
       "      <td>AMD</td>\n",
       "      <td>Radeon RX 6600 XT</td>\n",
       "      <td>2021.0</td>\n",
       "      <td>8.000</td>\n",
       "      <td>128.0</td>\n",
       "      <td>1968</td>\n",
       "      <td>2000.0</td>\n",
       "      <td>2048.0</td>\n",
       "      <td>128</td>\n",
       "      <td>64</td>\n",
       "      <td>0.0</td>\n",
       "      <td>0.0</td>\n",
       "      <td>No</td>\n",
       "      <td>PCIe 4.0 x8</td>\n",
       "      <td>GDDR6</td>\n",
       "      <td>Navi 23</td>\n",
       "    </tr>\n",
       "    <tr>\n",
       "      <th>2328</th>\n",
       "      <td>ATI</td>\n",
       "      <td>Radeon X800 GT AGP</td>\n",
       "      <td>2005.0</td>\n",
       "      <td>0.256</td>\n",
       "      <td>256.0</td>\n",
       "      <td>475</td>\n",
       "      <td>493.0</td>\n",
       "      <td>0.0</td>\n",
       "      <td>12</td>\n",
       "      <td>12</td>\n",
       "      <td>12.0</td>\n",
       "      <td>6.0</td>\n",
       "      <td>No</td>\n",
       "      <td>AGP 8x</td>\n",
       "      <td>GDDR3</td>\n",
       "      <td>R481</td>\n",
       "    </tr>\n",
       "    <tr>\n",
       "      <th>686</th>\n",
       "      <td>NVIDIA</td>\n",
       "      <td>GeForce GTX 960 OEM</td>\n",
       "      <td>2015.0</td>\n",
       "      <td>3.000</td>\n",
       "      <td>192.0</td>\n",
       "      <td>924</td>\n",
       "      <td>1253.0</td>\n",
       "      <td>1280.0</td>\n",
       "      <td>80</td>\n",
       "      <td>48</td>\n",
       "      <td>0.0</td>\n",
       "      <td>0.0</td>\n",
       "      <td>No</td>\n",
       "      <td>PCIe 3.0 x16</td>\n",
       "      <td>GDDR5</td>\n",
       "      <td>GM204</td>\n",
       "    </tr>\n",
       "    <tr>\n",
       "      <th>2240</th>\n",
       "      <td>ATI</td>\n",
       "      <td>Radeon X850 CrossFire Edition</td>\n",
       "      <td>2006.0</td>\n",
       "      <td>0.256</td>\n",
       "      <td>256.0</td>\n",
       "      <td>520</td>\n",
       "      <td>540.0</td>\n",
       "      <td>0.0</td>\n",
       "      <td>16</td>\n",
       "      <td>16</td>\n",
       "      <td>16.0</td>\n",
       "      <td>6.0</td>\n",
       "      <td>No</td>\n",
       "      <td>PCIe 1.0 x16</td>\n",
       "      <td>GDDR3</td>\n",
       "      <td>R480</td>\n",
       "    </tr>\n",
       "    <tr>\n",
       "      <th>996</th>\n",
       "      <td>NVIDIA</td>\n",
       "      <td>GeForce GT 745M</td>\n",
       "      <td>2013.0</td>\n",
       "      <td>2.000</td>\n",
       "      <td>128.0</td>\n",
       "      <td>549</td>\n",
       "      <td>1000.0</td>\n",
       "      <td>384.0</td>\n",
       "      <td>32</td>\n",
       "      <td>16</td>\n",
       "      <td>0.0</td>\n",
       "      <td>0.0</td>\n",
       "      <td>No</td>\n",
       "      <td>PCIe 3.0 x16</td>\n",
       "      <td>GDDR5</td>\n",
       "      <td>GK107</td>\n",
       "    </tr>\n",
       "  </tbody>\n",
       "</table>\n",
       "</div>"
      ],
      "text/plain": [
       "     manufacturer                    productname  releaseyear  memsize  \\\n",
       "425         Intel               UHD Graphics 620       2018.0    0.000   \n",
       "2531          ATI       Mobility Radeon 9000 IGP       2003.0    0.000   \n",
       "1089          AMD            Radeon HD 8310G IGP       2013.0    0.000   \n",
       "2790          ATI                Rage 128 VR PCI       1998.0    0.032   \n",
       "1385       NVIDIA             GeForce GT 520 PCI       2011.0    1.024   \n",
       "104           AMD              Radeon RX 6600 XT       2021.0    8.000   \n",
       "2328          ATI             Radeon X800 GT AGP       2005.0    0.256   \n",
       "686        NVIDIA            GeForce GTX 960 OEM       2015.0    3.000   \n",
       "2240          ATI  Radeon X850 CrossFire Edition       2006.0    0.256   \n",
       "996        NVIDIA                GeForce GT 745M       2013.0    2.000   \n",
       "\n",
       "      membuswidth  gpuclock  memclock  unifiedshader  tmu  rop  pixelshader  \\\n",
       "425           0.0       300       0.0          192.0   24    3          0.0   \n",
       "2531          0.0       300       0.0            0.0    2    2          2.0   \n",
       "1089          0.0       424       0.0          128.0    8    4          0.0   \n",
       "2790         64.0        80     125.0            0.0    2    2          2.0   \n",
       "1385         64.0       810     900.0           48.0    8    4          0.0   \n",
       "104         128.0      1968    2000.0         2048.0  128   64          0.0   \n",
       "2328        256.0       475     493.0            0.0   12   12         12.0   \n",
       "686         192.0       924    1253.0         1280.0   80   48          0.0   \n",
       "2240        256.0       520     540.0            0.0   16   16         16.0   \n",
       "996         128.0       549    1000.0          384.0   32   16          0.0   \n",
       "\n",
       "      vertexshader  igp           bus        memtype           gpuchip  \n",
       "425            0.0  Yes      Ring Bus  System Shared  Whiskey Lake GT2  \n",
       "2531           1.0  Yes        AGP 8x  System Shared             RS300  \n",
       "1089           0.0  Yes           IGP  System Shared     Scrapper Lite  \n",
       "2790           0.0   No           PCI            DDR            Rage 4  \n",
       "1385           0.0   No           PCI           DDR3             GF119  \n",
       "104            0.0   No   PCIe 4.0 x8          GDDR6           Navi 23  \n",
       "2328           6.0   No        AGP 8x          GDDR3              R481  \n",
       "686            0.0   No  PCIe 3.0 x16          GDDR5             GM204  \n",
       "2240           6.0   No  PCIe 1.0 x16          GDDR3              R480  \n",
       "996            0.0   No  PCIe 3.0 x16          GDDR5             GK107  "
      ]
     },
     "execution_count": 35,
     "metadata": {},
     "output_type": "execute_result"
    }
   ],
   "source": [
    "df.sample(10)"
   ]
  },
  {
   "cell_type": "code",
   "execution_count": 36,
   "id": "38257502",
   "metadata": {},
   "outputs": [
    {
     "data": {
      "text/html": [
       "<div>\n",
       "<style scoped>\n",
       "    .dataframe tbody tr th:only-of-type {\n",
       "        vertical-align: middle;\n",
       "    }\n",
       "\n",
       "    .dataframe tbody tr th {\n",
       "        vertical-align: top;\n",
       "    }\n",
       "\n",
       "    .dataframe thead th {\n",
       "        text-align: right;\n",
       "    }\n",
       "</style>\n",
       "<table border=\"1\" class=\"dataframe\">\n",
       "  <thead>\n",
       "    <tr style=\"text-align: right;\">\n",
       "      <th></th>\n",
       "      <th>manufacturer</th>\n",
       "      <th>productname</th>\n",
       "      <th>releaseyear</th>\n",
       "      <th>memsize</th>\n",
       "      <th>membuswidth</th>\n",
       "      <th>gpuclock</th>\n",
       "      <th>memclock</th>\n",
       "      <th>unifiedshader</th>\n",
       "      <th>tmu</th>\n",
       "      <th>rop</th>\n",
       "      <th>pixelshader</th>\n",
       "      <th>vertexshader</th>\n",
       "      <th>igp</th>\n",
       "      <th>bus</th>\n",
       "      <th>memtype</th>\n",
       "      <th>gpuchip</th>\n",
       "      <th>time_go</th>\n",
       "    </tr>\n",
       "  </thead>\n",
       "  <tbody>\n",
       "    <tr>\n",
       "      <th>0</th>\n",
       "      <td>NVIDIA</td>\n",
       "      <td>GeForce RTX 4050</td>\n",
       "      <td>2023.0</td>\n",
       "      <td>8.0</td>\n",
       "      <td>128.0</td>\n",
       "      <td>1925</td>\n",
       "      <td>2250.0</td>\n",
       "      <td>3840.0</td>\n",
       "      <td>120</td>\n",
       "      <td>48</td>\n",
       "      <td>0.0</td>\n",
       "      <td>0.0</td>\n",
       "      <td>No</td>\n",
       "      <td>PCIe 4.0 x16</td>\n",
       "      <td>GDDR6</td>\n",
       "      <td>AD106</td>\n",
       "      <td>0.0</td>\n",
       "    </tr>\n",
       "    <tr>\n",
       "      <th>1</th>\n",
       "      <td>Intel</td>\n",
       "      <td>Arc A350M</td>\n",
       "      <td>2022.0</td>\n",
       "      <td>4.0</td>\n",
       "      <td>64.0</td>\n",
       "      <td>300</td>\n",
       "      <td>1500.0</td>\n",
       "      <td>768.0</td>\n",
       "      <td>48</td>\n",
       "      <td>24</td>\n",
       "      <td>0.0</td>\n",
       "      <td>0.0</td>\n",
       "      <td>No</td>\n",
       "      <td>PCIe 4.0 x8</td>\n",
       "      <td>GDDR6</td>\n",
       "      <td>DG2-128</td>\n",
       "      <td>1.0</td>\n",
       "    </tr>\n",
       "    <tr>\n",
       "      <th>2</th>\n",
       "      <td>Intel</td>\n",
       "      <td>Arc A370M</td>\n",
       "      <td>2022.0</td>\n",
       "      <td>4.0</td>\n",
       "      <td>64.0</td>\n",
       "      <td>300</td>\n",
       "      <td>1500.0</td>\n",
       "      <td>1024.0</td>\n",
       "      <td>64</td>\n",
       "      <td>32</td>\n",
       "      <td>0.0</td>\n",
       "      <td>0.0</td>\n",
       "      <td>No</td>\n",
       "      <td>PCIe 4.0 x8</td>\n",
       "      <td>GDDR6</td>\n",
       "      <td>DG2-128</td>\n",
       "      <td>1.0</td>\n",
       "    </tr>\n",
       "    <tr>\n",
       "      <th>3</th>\n",
       "      <td>Intel</td>\n",
       "      <td>Arc A380</td>\n",
       "      <td>2022.0</td>\n",
       "      <td>4.0</td>\n",
       "      <td>64.0</td>\n",
       "      <td>300</td>\n",
       "      <td>1500.0</td>\n",
       "      <td>1024.0</td>\n",
       "      <td>64</td>\n",
       "      <td>32</td>\n",
       "      <td>0.0</td>\n",
       "      <td>0.0</td>\n",
       "      <td>No</td>\n",
       "      <td>PCIe 4.0 x8</td>\n",
       "      <td>GDDR6</td>\n",
       "      <td>DG2-128</td>\n",
       "      <td>1.0</td>\n",
       "    </tr>\n",
       "    <tr>\n",
       "      <th>4</th>\n",
       "      <td>Intel</td>\n",
       "      <td>Arc A550M</td>\n",
       "      <td>2022.0</td>\n",
       "      <td>8.0</td>\n",
       "      <td>128.0</td>\n",
       "      <td>300</td>\n",
       "      <td>1500.0</td>\n",
       "      <td>2048.0</td>\n",
       "      <td>128</td>\n",
       "      <td>64</td>\n",
       "      <td>0.0</td>\n",
       "      <td>0.0</td>\n",
       "      <td>No</td>\n",
       "      <td>PCIe 4.0 x16</td>\n",
       "      <td>GDDR6</td>\n",
       "      <td>DG2-512</td>\n",
       "      <td>1.0</td>\n",
       "    </tr>\n",
       "  </tbody>\n",
       "</table>\n",
       "</div>"
      ],
      "text/plain": [
       "  manufacturer       productname  releaseyear  memsize  membuswidth  gpuclock  \\\n",
       "0       NVIDIA  GeForce RTX 4050       2023.0      8.0        128.0      1925   \n",
       "1        Intel         Arc A350M       2022.0      4.0         64.0       300   \n",
       "2        Intel         Arc A370M       2022.0      4.0         64.0       300   \n",
       "3        Intel          Arc A380       2022.0      4.0         64.0       300   \n",
       "4        Intel         Arc A550M       2022.0      8.0        128.0       300   \n",
       "\n",
       "   memclock  unifiedshader  tmu  rop  pixelshader  vertexshader igp  \\\n",
       "0    2250.0         3840.0  120   48          0.0           0.0  No   \n",
       "1    1500.0          768.0   48   24          0.0           0.0  No   \n",
       "2    1500.0         1024.0   64   32          0.0           0.0  No   \n",
       "3    1500.0         1024.0   64   32          0.0           0.0  No   \n",
       "4    1500.0         2048.0  128   64          0.0           0.0  No   \n",
       "\n",
       "            bus memtype  gpuchip  time_go  \n",
       "0  PCIe 4.0 x16   GDDR6    AD106      0.0  \n",
       "1   PCIe 4.0 x8   GDDR6  DG2-128      1.0  \n",
       "2   PCIe 4.0 x8   GDDR6  DG2-128      1.0  \n",
       "3   PCIe 4.0 x8   GDDR6  DG2-128      1.0  \n",
       "4  PCIe 4.0 x16   GDDR6  DG2-512      1.0  "
      ]
     },
     "execution_count": 36,
     "metadata": {},
     "output_type": "execute_result"
    }
   ],
   "source": [
    "df['time_go'] = 2023 - df['releaseyear']\n",
    "df.head()"
   ]
  },
  {
   "cell_type": "code",
   "execution_count": 44,
   "id": "d7a29108",
   "metadata": {},
   "outputs": [
    {
     "data": {
      "text/plain": [
       "Text(5.069444444444445, 0.5, 'Количество')"
      ]
     },
     "execution_count": 44,
     "metadata": {},
     "output_type": "execute_result"
    },
    {
     "data": {
      "image/png": "[encoded data removed]",
      "text/plain": [
       "<Figure size 500x700 with 1 Axes>"
      ]
     },
     "metadata": {},
     "output_type": "display_data"
    }
   ],
   "source": [
    "ax = sns.displot(data=df,x='releaseyear',color='#9b59b6',bins=20,kde=True)\n",
    "ax.fig.set_figheight(7)\n",
    "ax.fig.set_figwidth(5)\n",
    "plt.xticks(rotation=90)\n",
    "plt.title('Количество видеокарт по годам')\n",
    "plt.xlabel('Дата выхода')\n",
    "plt.ylabel('Количество')"
   ]
  },
  {
   "cell_type": "code",
   "execution_count": 45,
   "id": "c2c21d85",
   "metadata": {},
   "outputs": [
    {
     "data": {
      "text/plain": [
       "array([[<AxesSubplot: xlabel='memsize', ylabel='memsize'>,\n",
       "        <AxesSubplot: xlabel='membuswidth', ylabel='memsize'>],\n",
       "       [<AxesSubplot: xlabel='memsize', ylabel='membuswidth'>,\n",
       "        <AxesSubplot: xlabel='membuswidth', ylabel='membuswidth'>]],\n",
       "      dtype=object)"
      ]
     },
     "execution_count": 45,
     "metadata": {},
     "output_type": "execute_result"
    },
    {
     "data": {
      "image/png": "[encoded data removed]",
      "text/plain": [
       "<Figure size 1200x1200 with 4 Axes>"
      ]
     },
     "metadata": {},
     "output_type": "display_data"
    }
   ],
   "source": [
    "pd.plotting.scatter_matrix(df[['memsize','membuswidth']],figsize=(12,12))"
   ]
  },
  {
   "cell_type": "code",
   "execution_count": 47,
   "id": "e088d546",
   "metadata": {},
   "outputs": [
    {
     "data": {
      "text/plain": [
       "<matplotlib.legend.Legend at 0x13f4d916d10>"
      ]
     },
     "execution_count": 47,
     "metadata": {},
     "output_type": "execute_result"
    },
    {
     "data": {
      "image/png": "[encoded data removed]",
      "text/plain": [
       "<Figure size 1800x600 with 1 Axes>"
      ]
     },
     "metadata": {},
     "output_type": "display_data"
    }
   ],
   "source": [
    "mean_foul = df.pivot_table(index='membuswidth',\n",
    "                            values='memsize',\n",
    "                            aggfunc='mean').sort_values(by='membuswidth')\n",
    "plt.figure(figsize=(18,6))\n",
    "sns.lineplot(data=mean_foul)\n",
    "sns.set_style('darkgrid')\n",
    "plt.title('Зависимость шины от объёма видеопамяти')\n",
    "plt.xlabel('Объём видеопамяти')\n",
    "plt.ylabel('Размер шины')\n",
    "plt.legend('')"
   ]
  },
  {
   "cell_type": "code",
   "execution_count": 51,
   "id": "73c5134c",
   "metadata": {},
   "outputs": [
    {
     "data": {
      "text/plain": [
       "<AxesSubplot: >"
      ]
     },
     "execution_count": 51,
     "metadata": {},
     "output_type": "execute_result"
    },
    {
     "data": {
      "image/png": "[encoded data removed]",
      "text/plain": [
       "<Figure size 100x300 with 2 Axes>"
      ]
     },
     "metadata": {},
     "output_type": "display_data"
    }
   ],
   "source": [
    "df_filter = df[['memsize','membuswidth','memclock']]\n",
    "plt.figure(figsize=(1,3))\n",
    "sns.heatmap(df_filter.corr()[['memsize']].sort_values(by='memsize', \n",
    "                                                            ascending=False),cmap='Blues',annot=True)"
   ]
  },
  {
   "cell_type": "code",
   "execution_count": null,
   "id": "c9487be5",
   "metadata": {},
   "outputs": [],
   "source": []
  }
 ],
 "metadata": {
  "kernelspec": {
   "display_name": "Python 3 (ipykernel)",
   "language": "python",
   "name": "python3"
  },
  "language_info": {
   "codemirror_mode": {
    "name": "ipython",
    "version": 3
   },
   "file_extension": ".py",
   "mimetype": "text/x-python",
   "name": "python",
   "nbconvert_exporter": "python",
   "pygments_lexer": "ipython3",
   "version": "3.10.7"
  }
 },
 "nbformat": 4,
 "nbformat_minor": 5
}
