{
 "cells": [
  {
   "cell_type": "markdown",
   "id": "647d8059",
   "metadata": {},
   "source": [
    "## Предварительный анализ \n",
    "### Загрузим необходимые библиотеки "
   ]
  },
  {
   "cell_type": "code",
   "execution_count": 1,
   "id": "96283d7d",
   "metadata": {},
   "outputs": [],
   "source": [
    "from io import StringIO \n",
    "from IPython.display import Image\n",
    "import graphviz \n",
    "import pydotplus\n",
    "import numpy as np\n",
    "import pandas as pd\n",
    "from typing import Dict, Tuple\n",
    "from sklearn.datasets import load_iris, load_wine, load_boston\n",
    "from sklearn.tree import DecisionTreeClassifier, DecisionTreeRegressor, export_graphviz\n",
    "from sklearn.model_selection import train_test_split\n",
    "from sklearn.model_selection import GridSearchCV\n",
    "from sklearn.ensemble import RandomForestRegressor, GradientBoostingRegressor\n",
    "from sklearn.ensemble import RandomForestClassifier, GradientBoostingClassifier\n",
    "from sklearn.preprocessing import StandardScaler\n",
    "from sklearn.linear_model import LogisticRegression\n",
    "from sklearn.metrics import accuracy_score, precision_score, recall_score, f1_score\n",
    "from sklearn.metrics import mean_absolute_error\n",
    "from sklearn.metrics import median_absolute_error, r2_score\n",
    "from sklearn.svm import NuSVR\n",
    "from sklearn import tree\n",
    "import matplotlib.pyplot as plt\n",
    "%matplotlib inline "
   ]
  },
  {
   "cell_type": "code",
   "execution_count": 2,
   "id": "372087f8",
   "metadata": {},
   "outputs": [],
   "source": [
    "df = pd.read_csv('gpu_specs_v6.csv')"
   ]
  },
  {
   "cell_type": "code",
   "execution_count": 3,
   "id": "186a2f91",
   "metadata": {},
   "outputs": [
    {
     "data": {
      "text/html": [
       "<div>\n",
       "<style scoped>\n",
       "    .dataframe tbody tr th:only-of-type {\n",
       "        vertical-align: middle;\n",
       "    }\n",
       "\n",
       "    .dataframe tbody tr th {\n",
       "        vertical-align: top;\n",
       "    }\n",
       "\n",
       "    .dataframe thead th {\n",
       "        text-align: right;\n",
       "    }\n",
       "</style>\n",
       "<table border=\"1\" class=\"dataframe\">\n",
       "  <thead>\n",
       "    <tr style=\"text-align: right;\">\n",
       "      <th></th>\n",
       "      <th>manufacturer</th>\n",
       "      <th>productName</th>\n",
       "      <th>releaseYear</th>\n",
       "      <th>memSize</th>\n",
       "      <th>memBusWidth</th>\n",
       "      <th>gpuClock</th>\n",
       "      <th>memClock</th>\n",
       "      <th>unifiedShader</th>\n",
       "      <th>tmu</th>\n",
       "      <th>rop</th>\n",
       "      <th>pixelShader</th>\n",
       "      <th>vertexShader</th>\n",
       "      <th>igp</th>\n",
       "      <th>bus</th>\n",
       "      <th>memType</th>\n",
       "      <th>gpuChip</th>\n",
       "    </tr>\n",
       "  </thead>\n",
       "  <tbody>\n",
       "    <tr>\n",
       "      <th>0</th>\n",
       "      <td>NVIDIA</td>\n",
       "      <td>GeForce RTX 4050</td>\n",
       "      <td>2023.0</td>\n",
       "      <td>8.0</td>\n",
       "      <td>128.0</td>\n",
       "      <td>1925</td>\n",
       "      <td>2250.0</td>\n",
       "      <td>3840.0</td>\n",
       "      <td>120</td>\n",
       "      <td>48</td>\n",
       "      <td>NaN</td>\n",
       "      <td>NaN</td>\n",
       "      <td>No</td>\n",
       "      <td>PCIe 4.0 x16</td>\n",
       "      <td>GDDR6</td>\n",
       "      <td>AD106</td>\n",
       "    </tr>\n",
       "    <tr>\n",
       "      <th>1</th>\n",
       "      <td>Intel</td>\n",
       "      <td>Arc A350M</td>\n",
       "      <td>2022.0</td>\n",
       "      <td>4.0</td>\n",
       "      <td>64.0</td>\n",
       "      <td>300</td>\n",
       "      <td>1500.0</td>\n",
       "      <td>768.0</td>\n",
       "      <td>48</td>\n",
       "      <td>24</td>\n",
       "      <td>NaN</td>\n",
       "      <td>NaN</td>\n",
       "      <td>No</td>\n",
       "      <td>PCIe 4.0 x8</td>\n",
       "      <td>GDDR6</td>\n",
       "      <td>DG2-128</td>\n",
       "    </tr>\n",
       "    <tr>\n",
       "      <th>2</th>\n",
       "      <td>Intel</td>\n",
       "      <td>Arc A370M</td>\n",
       "      <td>2022.0</td>\n",
       "      <td>4.0</td>\n",
       "      <td>64.0</td>\n",
       "      <td>300</td>\n",
       "      <td>1500.0</td>\n",
       "      <td>1024.0</td>\n",
       "      <td>64</td>\n",
       "      <td>32</td>\n",
       "      <td>NaN</td>\n",
       "      <td>NaN</td>\n",
       "      <td>No</td>\n",
       "      <td>PCIe 4.0 x8</td>\n",
       "      <td>GDDR6</td>\n",
       "      <td>DG2-128</td>\n",
       "    </tr>\n",
       "    <tr>\n",
       "      <th>3</th>\n",
       "      <td>Intel</td>\n",
       "      <td>Arc A380</td>\n",
       "      <td>2022.0</td>\n",
       "      <td>4.0</td>\n",
       "      <td>64.0</td>\n",
       "      <td>300</td>\n",
       "      <td>1500.0</td>\n",
       "      <td>1024.0</td>\n",
       "      <td>64</td>\n",
       "      <td>32</td>\n",
       "      <td>NaN</td>\n",
       "      <td>NaN</td>\n",
       "      <td>No</td>\n",
       "      <td>PCIe 4.0 x8</td>\n",
       "      <td>GDDR6</td>\n",
       "      <td>DG2-128</td>\n",
       "    </tr>\n",
       "    <tr>\n",
       "      <th>4</th>\n",
       "      <td>Intel</td>\n",
       "      <td>Arc A550M</td>\n",
       "      <td>2022.0</td>\n",
       "      <td>8.0</td>\n",
       "      <td>128.0</td>\n",
       "      <td>300</td>\n",
       "      <td>1500.0</td>\n",
       "      <td>2048.0</td>\n",
       "      <td>128</td>\n",
       "      <td>64</td>\n",
       "      <td>NaN</td>\n",
       "      <td>NaN</td>\n",
       "      <td>No</td>\n",
       "      <td>PCIe 4.0 x16</td>\n",
       "      <td>GDDR6</td>\n",
       "      <td>DG2-512</td>\n",
       "    </tr>\n",
       "  </tbody>\n",
       "</table>\n",
       "</div>"
      ],
      "text/plain": [
       "  manufacturer       productName  releaseYear  memSize  memBusWidth  gpuClock   \n",
       "0       NVIDIA  GeForce RTX 4050       2023.0      8.0        128.0      1925  \\\n",
       "1        Intel         Arc A350M       2022.0      4.0         64.0       300   \n",
       "2        Intel         Arc A370M       2022.0      4.0         64.0       300   \n",
       "3        Intel          Arc A380       2022.0      4.0         64.0       300   \n",
       "4        Intel         Arc A550M       2022.0      8.0        128.0       300   \n",
       "\n",
       "   memClock  unifiedShader  tmu  rop  pixelShader  vertexShader igp   \n",
       "0    2250.0         3840.0  120   48          NaN           NaN  No  \\\n",
       "1    1500.0          768.0   48   24          NaN           NaN  No   \n",
       "2    1500.0         1024.0   64   32          NaN           NaN  No   \n",
       "3    1500.0         1024.0   64   32          NaN           NaN  No   \n",
       "4    1500.0         2048.0  128   64          NaN           NaN  No   \n",
       "\n",
       "            bus memType  gpuChip  \n",
       "0  PCIe 4.0 x16   GDDR6    AD106  \n",
       "1   PCIe 4.0 x8   GDDR6  DG2-128  \n",
       "2   PCIe 4.0 x8   GDDR6  DG2-128  \n",
       "3   PCIe 4.0 x8   GDDR6  DG2-128  \n",
       "4  PCIe 4.0 x16   GDDR6  DG2-512  "
      ]
     },
     "execution_count": 3,
     "metadata": {},
     "output_type": "execute_result"
    }
   ],
   "source": [
    "df.head()"
   ]
  },
  {
   "cell_type": "markdown",
   "id": "2902a389",
   "metadata": {},
   "source": [
    "### Изучим полученные данные"
   ]
  },
  {
   "cell_type": "code",
   "execution_count": 4,
   "id": "5d7b6116",
   "metadata": {
    "scrolled": true
   },
   "outputs": [
    {
     "name": "stdout",
     "output_type": "stream",
     "text": [
      "<class 'pandas.core.frame.DataFrame'>\n",
      "RangeIndex: 2889 entries, 0 to 2888\n",
      "Data columns (total 16 columns):\n",
      " #   Column         Non-Null Count  Dtype  \n",
      "---  ------         --------------  -----  \n",
      " 0   manufacturer   2889 non-null   object \n",
      " 1   productName    2889 non-null   object \n",
      " 2   releaseYear    2845 non-null   float64\n",
      " 3   memSize        2477 non-null   float64\n",
      " 4   memBusWidth    2477 non-null   float64\n",
      " 5   gpuClock       2889 non-null   int64  \n",
      " 6   memClock       2477 non-null   float64\n",
      " 7   unifiedShader  2065 non-null   float64\n",
      " 8   tmu            2889 non-null   int64  \n",
      " 9   rop            2889 non-null   int64  \n",
      " 10  pixelShader    824 non-null    float64\n",
      " 11  vertexShader   824 non-null    float64\n",
      " 12  igp            2889 non-null   object \n",
      " 13  bus            2889 non-null   object \n",
      " 14  memType        2889 non-null   object \n",
      " 15  gpuChip        2889 non-null   object \n",
      "dtypes: float64(7), int64(3), object(6)\n",
      "memory usage: 361.2+ KB\n"
     ]
    }
   ],
   "source": [
    "df.info()"
   ]
  },
  {
   "cell_type": "code",
   "execution_count": 5,
   "id": "dc32f2cd",
   "metadata": {},
   "outputs": [
    {
     "data": {
      "text/plain": [
       "manufacturer     0\n",
       "productName      0\n",
       "releaseYear      0\n",
       "memSize          0\n",
       "memBusWidth      0\n",
       "gpuClock         0\n",
       "memClock         0\n",
       "unifiedShader    0\n",
       "tmu              0\n",
       "rop              0\n",
       "pixelShader      0\n",
       "vertexShader     0\n",
       "igp              0\n",
       "bus              0\n",
       "memType          0\n",
       "gpuChip          0\n",
       "dtype: int64"
      ]
     },
     "execution_count": 5,
     "metadata": {},
     "output_type": "execute_result"
    }
   ],
   "source": [
    "columns_to_replace = ['memSize', 'memBusWidth', 'memClock', 'unifiedShader', 'pixelShader', 'vertexShader']\n",
    "for column in columns_to_replace:\n",
    "    df[column] = df[column].fillna(0)\n",
    "df.dropna(subset=['releaseYear'],inplace = True, axis = 0)\n",
    "df.isna().sum()"
   ]
  },
  {
   "cell_type": "code",
   "execution_count": 6,
   "id": "b93b6bfd",
   "metadata": {},
   "outputs": [],
   "source": [
    "# удаляем ненужные строки\n",
    "df.drop(['manufacturer','productName','bus','memType','gpuChip'], axis=1, inplace=True)"
   ]
  },
  {
   "cell_type": "code",
   "execution_count": 7,
   "id": "0b4295c7",
   "metadata": {},
   "outputs": [
    {
     "data": {
      "text/html": [
       "<div>\n",
       "<style scoped>\n",
       "    .dataframe tbody tr th:only-of-type {\n",
       "        vertical-align: middle;\n",
       "    }\n",
       "\n",
       "    .dataframe tbody tr th {\n",
       "        vertical-align: top;\n",
       "    }\n",
       "\n",
       "    .dataframe thead th {\n",
       "        text-align: right;\n",
       "    }\n",
       "</style>\n",
       "<table border=\"1\" class=\"dataframe\">\n",
       "  <thead>\n",
       "    <tr style=\"text-align: right;\">\n",
       "      <th></th>\n",
       "      <th>releaseYear</th>\n",
       "      <th>memSize</th>\n",
       "      <th>memBusWidth</th>\n",
       "      <th>gpuClock</th>\n",
       "      <th>memClock</th>\n",
       "      <th>unifiedShader</th>\n",
       "      <th>tmu</th>\n",
       "      <th>rop</th>\n",
       "      <th>pixelShader</th>\n",
       "      <th>vertexShader</th>\n",
       "      <th>igp</th>\n",
       "    </tr>\n",
       "  </thead>\n",
       "  <tbody>\n",
       "    <tr>\n",
       "      <th>0</th>\n",
       "      <td>2023.0</td>\n",
       "      <td>8.0</td>\n",
       "      <td>128.0</td>\n",
       "      <td>1925</td>\n",
       "      <td>2250.0</td>\n",
       "      <td>3840.0</td>\n",
       "      <td>120</td>\n",
       "      <td>48</td>\n",
       "      <td>0.0</td>\n",
       "      <td>0.0</td>\n",
       "      <td>0</td>\n",
       "    </tr>\n",
       "    <tr>\n",
       "      <th>1</th>\n",
       "      <td>2022.0</td>\n",
       "      <td>4.0</td>\n",
       "      <td>64.0</td>\n",
       "      <td>300</td>\n",
       "      <td>1500.0</td>\n",
       "      <td>768.0</td>\n",
       "      <td>48</td>\n",
       "      <td>24</td>\n",
       "      <td>0.0</td>\n",
       "      <td>0.0</td>\n",
       "      <td>0</td>\n",
       "    </tr>\n",
       "    <tr>\n",
       "      <th>2</th>\n",
       "      <td>2022.0</td>\n",
       "      <td>4.0</td>\n",
       "      <td>64.0</td>\n",
       "      <td>300</td>\n",
       "      <td>1500.0</td>\n",
       "      <td>1024.0</td>\n",
       "      <td>64</td>\n",
       "      <td>32</td>\n",
       "      <td>0.0</td>\n",
       "      <td>0.0</td>\n",
       "      <td>0</td>\n",
       "    </tr>\n",
       "    <tr>\n",
       "      <th>3</th>\n",
       "      <td>2022.0</td>\n",
       "      <td>4.0</td>\n",
       "      <td>64.0</td>\n",
       "      <td>300</td>\n",
       "      <td>1500.0</td>\n",
       "      <td>1024.0</td>\n",
       "      <td>64</td>\n",
       "      <td>32</td>\n",
       "      <td>0.0</td>\n",
       "      <td>0.0</td>\n",
       "      <td>0</td>\n",
       "    </tr>\n",
       "    <tr>\n",
       "      <th>4</th>\n",
       "      <td>2022.0</td>\n",
       "      <td>8.0</td>\n",
       "      <td>128.0</td>\n",
       "      <td>300</td>\n",
       "      <td>1500.0</td>\n",
       "      <td>2048.0</td>\n",
       "      <td>128</td>\n",
       "      <td>64</td>\n",
       "      <td>0.0</td>\n",
       "      <td>0.0</td>\n",
       "      <td>0</td>\n",
       "    </tr>\n",
       "  </tbody>\n",
       "</table>\n",
       "</div>"
      ],
      "text/plain": [
       "   releaseYear  memSize  memBusWidth  gpuClock  memClock  unifiedShader  tmu   \n",
       "0       2023.0      8.0        128.0      1925    2250.0         3840.0  120  \\\n",
       "1       2022.0      4.0         64.0       300    1500.0          768.0   48   \n",
       "2       2022.0      4.0         64.0       300    1500.0         1024.0   64   \n",
       "3       2022.0      4.0         64.0       300    1500.0         1024.0   64   \n",
       "4       2022.0      8.0        128.0       300    1500.0         2048.0  128   \n",
       "\n",
       "   rop  pixelShader  vertexShader  igp  \n",
       "0   48          0.0           0.0    0  \n",
       "1   24          0.0           0.0    0  \n",
       "2   32          0.0           0.0    0  \n",
       "3   32          0.0           0.0    0  \n",
       "4   64          0.0           0.0    0  "
      ]
     },
     "execution_count": 7,
     "metadata": {},
     "output_type": "execute_result"
    }
   ],
   "source": [
    "df[\"igp\"] = df['igp'].replace({'No': 0, 'Yes': 1}).astype(int)\n",
    "df.head()"
   ]
  },
  {
   "cell_type": "code",
   "execution_count": 8,
   "id": "de419b08",
   "metadata": {},
   "outputs": [
    {
     "name": "stdout",
     "output_type": "stream",
     "text": [
      "Интегрированная графика:\n",
      "               count         mean         std     min     25%     50%     75%   \n",
      "releaseYear    412.0  2012.165049    5.448002  1998.0  2008.0  2013.0  2016.0  \\\n",
      "memSize        412.0     0.000000    0.000000     0.0     0.0     0.0     0.0   \n",
      "memBusWidth    412.0     0.000000    0.000000     0.0     0.0     0.0     0.0   \n",
      "gpuClock       412.0   425.910194  208.681854    66.0   300.0   370.0   500.0   \n",
      "memClock       412.0     0.000000    0.000000     0.0     0.0     0.0     0.0   \n",
      "unifiedShader  412.0   182.757282  188.414228     0.0    16.0   128.0   320.0   \n",
      "tmu            412.0    15.519417   13.498026     1.0     4.0    12.0    24.0   \n",
      "rop            412.0     4.856796    3.909111     1.0     2.0     4.0     8.0   \n",
      "pixelShader    412.0     0.864078    3.595884     0.0     0.0     0.0     0.0   \n",
      "vertexShader   412.0     0.310680    1.429812     0.0     0.0     0.0     0.0   \n",
      "igp            412.0     1.000000    0.000000     1.0     1.0     1.0     1.0   \n",
      "\n",
      "                  max  \n",
      "releaseYear    2022.0  \n",
      "memSize           0.0  \n",
      "memBusWidth       0.0  \n",
      "gpuClock       2000.0  \n",
      "memClock          0.0  \n",
      "unifiedShader   768.0  \n",
      "tmu              72.0  \n",
      "rop              32.0  \n",
      "pixelShader      48.0  \n",
      "vertexShader     24.0  \n",
      "igp               1.0  \n",
      "\n",
      "Дискретная графика:\n",
      "                count         mean          std          min       25%   \n",
      "releaseYear    2433.0  2010.441841     6.277440  1986.000000  2006.000  \\\n",
      "memSize        2433.0     3.118372     7.215029     0.000032     0.256   \n",
      "memBusWidth    2433.0   273.716400   653.293921    32.000000    64.000   \n",
      "gpuClock       2433.0   700.901356   379.738002    10.000000   450.000   \n",
      "memClock       2433.0   869.714344   507.791540     5.000000   405.000   \n",
      "unifiedShader  2433.0   827.972051  1580.230764     0.000000     0.000   \n",
      "tmu            2433.0    52.579942    77.278979     0.000000     8.000   \n",
      "rop            2433.0    20.992602    26.284234     0.000000     4.000   \n",
      "pixelShader    2433.0     2.110974     5.535250     0.000000     0.000   \n",
      "vertexShader   2433.0     0.830251     1.874659     0.000000     0.000   \n",
      "igp            2433.0     0.000000     0.000000     0.000000     0.000   \n",
      "\n",
      "                    50%     75%      max  \n",
      "releaseYear    2011.000  2015.0   2023.0  \n",
      "memSize           1.024     3.0    128.0  \n",
      "memBusWidth     128.000   256.0   8192.0  \n",
      "gpuClock        650.000   924.0   2331.0  \n",
      "memClock        848.000  1250.0   2257.0  \n",
      "unifiedShader   256.000   896.0  17408.0  \n",
      "tmu              24.000    64.0    880.0  \n",
      "rop              12.000    32.0    256.0  \n",
      "pixelShader       0.000     2.0     48.0  \n",
      "vertexShader      0.000     0.0      8.0  \n",
      "igp               0.000     0.0      0.0  \n"
     ]
    }
   ],
   "source": [
    "print('Интегрированная графика:')\n",
    "print(df[df['igp']==1].describe().T)\n",
    "print('\\nДискретная графика:')\n",
    "print(df[df['igp']==0].describe().T)"
   ]
  },
  {
   "cell_type": "markdown",
   "id": "b9122952",
   "metadata": {},
   "source": [
    "## С использованием метода train_test_split разделим выборку на обучающую и тестовую.\n",
    "### Построим модель бинарной классификации видеокарт, где целевой признак - является ли видеокарта интегрированной."
   ]
  },
  {
   "cell_type": "code",
   "execution_count": 9,
   "id": "c18f328e",
   "metadata": {},
   "outputs": [],
   "source": [
    "X = df.drop(['igp'], axis = 1)\n",
    "y = df['igp']\n",
    "X_train, X_test, y_train, y_test = train_test_split(X, y, test_size=0.2, random_state=0)\n",
    "scaler = StandardScaler()\n",
    "X_train_st = scaler.fit_transform(X_train)\n",
    "X_test_st = scaler.transform(X_test)"
   ]
  },
  {
   "cell_type": "markdown",
   "id": "f2a46d7f",
   "metadata": {},
   "source": [
    "### Логистическая регрессия"
   ]
  },
  {
   "cell_type": "code",
   "execution_count": 10,
   "id": "57ffa5c4",
   "metadata": {},
   "outputs": [
    {
     "name": "stdout",
     "output_type": "stream",
     "text": [
      "Метрики для модели логистической регрессии:\n",
      "accuracy_score: 0.9982425307557118\n",
      "precision_score: 1.0\n",
      "recall_score:0.9891304347826086\n"
     ]
    }
   ],
   "source": [
    "lr_model = LogisticRegression(random_state=0)\n",
    "lr_model.fit(X_train_st, y_train)\n",
    "lr_predictions = lr_model.predict(X_test_st)\n",
    "lr_probabilities = lr_model.predict_proba(X_test_st)[:,1]\n",
    "print('Метрики для модели логистической регрессии:')\n",
    "print('accuracy_score: {}\\nprecision_score: {}\\nrecall_score:{}'.format(\n",
    "    accuracy_score(y_test, lr_predictions),\n",
    "    precision_score(y_test, lr_predictions),\n",
    "    recall_score(y_test, lr_predictions)\n",
    "))"
   ]
  },
  {
   "cell_type": "code",
   "execution_count": 11,
   "id": "952f947e",
   "metadata": {},
   "outputs": [
    {
     "name": "stdout",
     "output_type": "stream",
     "text": [
      "\n",
      "Коэффициенты признаков в оптимальной функции логистической регрессии:\n",
      "         feature      coef\n",
      "4       memClock  8.272012\n",
      "2    memBusWidth  2.968013\n",
      "0    releaseYear  2.194263\n",
      "7            rop  0.725915\n",
      "3       gpuClock  0.515978\n",
      "1        memSize  0.496792\n",
      "9   vertexShader  0.451015\n",
      "6            tmu  0.231938\n",
      "8    pixelShader  0.200075\n",
      "5  unifiedShader  0.082808\n"
     ]
    }
   ],
   "source": [
    "features = pd.DataFrame(lr_model.coef_.T, X.columns).reset_index()\n",
    "features.columns = ['feature', 'coef']\n",
    "features['coef'] = features['coef'].apply(lambda x: abs(x))\n",
    "features = features.sort_values(by='coef', ascending=False)\n",
    "print('\\nКоэффициенты признаков в оптимальной функции логистической регрессии:')\n",
    "print(features)"
   ]
  },
  {
   "cell_type": "markdown",
   "id": "72e4ea25",
   "metadata": {},
   "source": [
    "## SVM"
   ]
  },
  {
   "cell_type": "code",
   "execution_count": 12,
   "id": "0f072a1c",
   "metadata": {},
   "outputs": [
    {
     "data": {
      "text/html": [
       "<div>\n",
       "<style scoped>\n",
       "    .dataframe tbody tr th:only-of-type {\n",
       "        vertical-align: middle;\n",
       "    }\n",
       "\n",
       "    .dataframe tbody tr th {\n",
       "        vertical-align: top;\n",
       "    }\n",
       "\n",
       "    .dataframe thead th {\n",
       "        text-align: right;\n",
       "    }\n",
       "</style>\n",
       "<table border=\"1\" class=\"dataframe\">\n",
       "  <thead>\n",
       "    <tr style=\"text-align: right;\">\n",
       "      <th></th>\n",
       "      <th>releaseYear</th>\n",
       "      <th>memSize</th>\n",
       "      <th>memBusWidth</th>\n",
       "      <th>gpuClock</th>\n",
       "      <th>memClock</th>\n",
       "      <th>unifiedShader</th>\n",
       "      <th>tmu</th>\n",
       "      <th>rop</th>\n",
       "      <th>pixelShader</th>\n",
       "      <th>vertexShader</th>\n",
       "    </tr>\n",
       "  </thead>\n",
       "  <tbody>\n",
       "    <tr>\n",
       "      <th>count</th>\n",
       "      <td>2.276000e+03</td>\n",
       "      <td>2.276000e+03</td>\n",
       "      <td>2.276000e+03</td>\n",
       "      <td>2.276000e+03</td>\n",
       "      <td>2.276000e+03</td>\n",
       "      <td>2.276000e+03</td>\n",
       "      <td>2.276000e+03</td>\n",
       "      <td>2.276000e+03</td>\n",
       "      <td>2.276000e+03</td>\n",
       "      <td>2.276000e+03</td>\n",
       "    </tr>\n",
       "    <tr>\n",
       "      <th>mean</th>\n",
       "      <td>1.499211e-14</td>\n",
       "      <td>-4.370650e-17</td>\n",
       "      <td>-1.795088e-17</td>\n",
       "      <td>-3.121893e-17</td>\n",
       "      <td>5.385265e-17</td>\n",
       "      <td>-1.560946e-18</td>\n",
       "      <td>9.755914e-18</td>\n",
       "      <td>7.492542e-17</td>\n",
       "      <td>6.243785e-18</td>\n",
       "      <td>-1.560946e-17</td>\n",
       "    </tr>\n",
       "    <tr>\n",
       "      <th>std</th>\n",
       "      <td>1.000220e+00</td>\n",
       "      <td>1.000220e+00</td>\n",
       "      <td>1.000220e+00</td>\n",
       "      <td>1.000220e+00</td>\n",
       "      <td>1.000220e+00</td>\n",
       "      <td>1.000220e+00</td>\n",
       "      <td>1.000220e+00</td>\n",
       "      <td>1.000220e+00</td>\n",
       "      <td>1.000220e+00</td>\n",
       "      <td>1.000220e+00</td>\n",
       "    </tr>\n",
       "    <tr>\n",
       "      <th>min</th>\n",
       "      <td>-4.008804e+00</td>\n",
       "      <td>-3.894468e-01</td>\n",
       "      <td>-3.837923e-01</td>\n",
       "      <td>-1.761104e+00</td>\n",
       "      <td>-1.334554e+00</td>\n",
       "      <td>-5.000606e-01</td>\n",
       "      <td>-6.467931e-01</td>\n",
       "      <td>-7.524922e-01</td>\n",
       "      <td>-3.607251e-01</td>\n",
       "      <td>-4.139932e-01</td>\n",
       "    </tr>\n",
       "    <tr>\n",
       "      <th>25%</th>\n",
       "      <td>-7.606594e-01</td>\n",
       "      <td>-3.712850e-01</td>\n",
       "      <td>-2.782065e-01</td>\n",
       "      <td>-7.065687e-01</td>\n",
       "      <td>-8.914008e-01</td>\n",
       "      <td>-5.000606e-01</td>\n",
       "      <td>-5.396689e-01</td>\n",
       "      <td>-5.933330e-01</td>\n",
       "      <td>-3.607251e-01</td>\n",
       "      <td>-4.139932e-01</td>\n",
       "    </tr>\n",
       "    <tr>\n",
       "      <th>50%</th>\n",
       "      <td>5.137662e-02</td>\n",
       "      <td>-3.167995e-01</td>\n",
       "      <td>-1.726207e-01</td>\n",
       "      <td>-1.657813e-01</td>\n",
       "      <td>8.353549e-02</td>\n",
       "      <td>-3.724446e-01</td>\n",
       "      <td>-3.789825e-01</td>\n",
       "      <td>-4.341738e-01</td>\n",
       "      <td>-3.607251e-01</td>\n",
       "      <td>-4.139932e-01</td>\n",
       "    </tr>\n",
       "    <tr>\n",
       "      <th>75%</th>\n",
       "      <td>7.010055e-01</td>\n",
       "      <td>-1.056682e-01</td>\n",
       "      <td>3.855088e-02</td>\n",
       "      <td>5.750974e-01</td>\n",
       "      <td>6.755877e-01</td>\n",
       "      <td>1.040338e-02</td>\n",
       "      <td>1.030765e-01</td>\n",
       "      <td>2.024629e-01</td>\n",
       "      <td>6.453043e-03</td>\n",
       "      <td>-4.139932e-01</td>\n",
       "    </tr>\n",
       "    <tr>\n",
       "      <th>max</th>\n",
       "      <td>2.000263e+00</td>\n",
       "      <td>1.777238e+01</td>\n",
       "      <td>1.313119e+01</td>\n",
       "      <td>4.514734e+00</td>\n",
       "      <td>2.666230e+00</td>\n",
       "      <td>1.073015e+01</td>\n",
       "      <td>1.113687e+01</td>\n",
       "      <td>9.433696e+00</td>\n",
       "      <td>8.451550e+00</td>\n",
       "      <td>1.256017e+01</td>\n",
       "    </tr>\n",
       "  </tbody>\n",
       "</table>\n",
       "</div>"
      ],
      "text/plain": [
       "        releaseYear       memSize   memBusWidth      gpuClock      memClock   \n",
       "count  2.276000e+03  2.276000e+03  2.276000e+03  2.276000e+03  2.276000e+03  \\\n",
       "mean   1.499211e-14 -4.370650e-17 -1.795088e-17 -3.121893e-17  5.385265e-17   \n",
       "std    1.000220e+00  1.000220e+00  1.000220e+00  1.000220e+00  1.000220e+00   \n",
       "min   -4.008804e+00 -3.894468e-01 -3.837923e-01 -1.761104e+00 -1.334554e+00   \n",
       "25%   -7.606594e-01 -3.712850e-01 -2.782065e-01 -7.065687e-01 -8.914008e-01   \n",
       "50%    5.137662e-02 -3.167995e-01 -1.726207e-01 -1.657813e-01  8.353549e-02   \n",
       "75%    7.010055e-01 -1.056682e-01  3.855088e-02  5.750974e-01  6.755877e-01   \n",
       "max    2.000263e+00  1.777238e+01  1.313119e+01  4.514734e+00  2.666230e+00   \n",
       "\n",
       "       unifiedShader           tmu           rop   pixelShader  vertexShader  \n",
       "count   2.276000e+03  2.276000e+03  2.276000e+03  2.276000e+03  2.276000e+03  \n",
       "mean   -1.560946e-18  9.755914e-18  7.492542e-17  6.243785e-18 -1.560946e-17  \n",
       "std     1.000220e+00  1.000220e+00  1.000220e+00  1.000220e+00  1.000220e+00  \n",
       "min    -5.000606e-01 -6.467931e-01 -7.524922e-01 -3.607251e-01 -4.139932e-01  \n",
       "25%    -5.000606e-01 -5.396689e-01 -5.933330e-01 -3.607251e-01 -4.139932e-01  \n",
       "50%    -3.724446e-01 -3.789825e-01 -4.341738e-01 -3.607251e-01 -4.139932e-01  \n",
       "75%     1.040338e-02  1.030765e-01  2.024629e-01  6.453043e-03 -4.139932e-01  \n",
       "max     1.073015e+01  1.113687e+01  9.433696e+00  8.451550e+00  1.256017e+01  "
      ]
     },
     "execution_count": 12,
     "metadata": {},
     "output_type": "execute_result"
    }
   ],
   "source": [
    "# SVM\n",
    "scaler = StandardScaler().fit(X_train)\n",
    "x_train_scaled = pd.DataFrame(scaler.transform(X_train), columns=X_train.columns)\n",
    "x_test_scaled = pd.DataFrame(scaler.transform(X_test), columns=X_train.columns)\n",
    "x_train_scaled.describe()"
   ]
  },
  {
   "cell_type": "code",
   "execution_count": 13,
   "id": "90e24595",
   "metadata": {},
   "outputs": [
    {
     "data": {
      "text/html": [
       "<style>#sk-container-id-1 {color: black;background-color: white;}#sk-container-id-1 pre{padding: 0;}#sk-container-id-1 div.sk-toggleable {background-color: white;}#sk-container-id-1 label.sk-toggleable__label {cursor: pointer;display: block;width: 100%;margin-bottom: 0;padding: 0.3em;box-sizing: border-box;text-align: center;}#sk-container-id-1 label.sk-toggleable__label-arrow:before {content: \"▸\";float: left;margin-right: 0.25em;color: #696969;}#sk-container-id-1 label.sk-toggleable__label-arrow:hover:before {color: black;}#sk-container-id-1 div.sk-estimator:hover label.sk-toggleable__label-arrow:before {color: black;}#sk-container-id-1 div.sk-toggleable__content {max-height: 0;max-width: 0;overflow: hidden;text-align: left;background-color: #f0f8ff;}#sk-container-id-1 div.sk-toggleable__content pre {margin: 0.2em;color: black;border-radius: 0.25em;background-color: #f0f8ff;}#sk-container-id-1 input.sk-toggleable__control:checked~div.sk-toggleable__content {max-height: 200px;max-width: 100%;overflow: auto;}#sk-container-id-1 input.sk-toggleable__control:checked~label.sk-toggleable__label-arrow:before {content: \"▾\";}#sk-container-id-1 div.sk-estimator input.sk-toggleable__control:checked~label.sk-toggleable__label {background-color: #d4ebff;}#sk-container-id-1 div.sk-label input.sk-toggleable__control:checked~label.sk-toggleable__label {background-color: #d4ebff;}#sk-container-id-1 input.sk-hidden--visually {border: 0;clip: rect(1px 1px 1px 1px);clip: rect(1px, 1px, 1px, 1px);height: 1px;margin: -1px;overflow: hidden;padding: 0;position: absolute;width: 1px;}#sk-container-id-1 div.sk-estimator {font-family: monospace;background-color: #f0f8ff;border: 1px dotted black;border-radius: 0.25em;box-sizing: border-box;margin-bottom: 0.5em;}#sk-container-id-1 div.sk-estimator:hover {background-color: #d4ebff;}#sk-container-id-1 div.sk-parallel-item::after {content: \"\";width: 100%;border-bottom: 1px solid gray;flex-grow: 1;}#sk-container-id-1 div.sk-label:hover label.sk-toggleable__label {background-color: #d4ebff;}#sk-container-id-1 div.sk-serial::before {content: \"\";position: absolute;border-left: 1px solid gray;box-sizing: border-box;top: 0;bottom: 0;left: 50%;z-index: 0;}#sk-container-id-1 div.sk-serial {display: flex;flex-direction: column;align-items: center;background-color: white;padding-right: 0.2em;padding-left: 0.2em;position: relative;}#sk-container-id-1 div.sk-item {position: relative;z-index: 1;}#sk-container-id-1 div.sk-parallel {display: flex;align-items: stretch;justify-content: center;background-color: white;position: relative;}#sk-container-id-1 div.sk-item::before, #sk-container-id-1 div.sk-parallel-item::before {content: \"\";position: absolute;border-left: 1px solid gray;box-sizing: border-box;top: 0;bottom: 0;left: 50%;z-index: -1;}#sk-container-id-1 div.sk-parallel-item {display: flex;flex-direction: column;z-index: 1;position: relative;background-color: white;}#sk-container-id-1 div.sk-parallel-item:first-child::after {align-self: flex-end;width: 50%;}#sk-container-id-1 div.sk-parallel-item:last-child::after {align-self: flex-start;width: 50%;}#sk-container-id-1 div.sk-parallel-item:only-child::after {width: 0;}#sk-container-id-1 div.sk-dashed-wrapped {border: 1px dashed gray;margin: 0 0.4em 0.5em 0.4em;box-sizing: border-box;padding-bottom: 0.4em;background-color: white;}#sk-container-id-1 div.sk-label label {font-family: monospace;font-weight: bold;display: inline-block;line-height: 1.2em;}#sk-container-id-1 div.sk-label-container {text-align: center;}#sk-container-id-1 div.sk-container {/* jupyter's `normalize.less` sets `[hidden] { display: none; }` but bootstrap.min.css set `[hidden] { display: none !important; }` so we also need the `!important` here to be able to override the default hidden behavior on the sphinx rendered scikit-learn.org. See: https://github.com/scikit-learn/scikit-learn/issues/21755 */display: inline-block !important;position: relative;}#sk-container-id-1 div.sk-text-repr-fallback {display: none;}</style><div id=\"sk-container-id-1\" class=\"sk-top-container\"><div class=\"sk-text-repr-fallback\"><pre>NuSVR(nu=0.7)</pre><b>In a Jupyter environment, please rerun this cell to show the HTML representation or trust the notebook. <br />On GitHub, the HTML representation is unable to render, please try loading this page with nbviewer.org.</b></div><div class=\"sk-container\" hidden><div class=\"sk-item\"><div class=\"sk-estimator sk-toggleable\"><input class=\"sk-toggleable__control sk-hidden--visually\" id=\"sk-estimator-id-1\" type=\"checkbox\" checked><label for=\"sk-estimator-id-1\" class=\"sk-toggleable__label sk-toggleable__label-arrow\">NuSVR</label><div class=\"sk-toggleable__content\"><pre>NuSVR(nu=0.7)</pre></div></div></div></div></div>"
      ],
      "text/plain": [
       "NuSVR(nu=0.7)"
      ]
     },
     "execution_count": 13,
     "metadata": {},
     "output_type": "execute_result"
    }
   ],
   "source": [
    "nusvr_05 = NuSVR(nu=0.7, gamma = 'scale')\n",
    "nusvr_05.fit(X_train, y_train)"
   ]
  },
  {
   "cell_type": "markdown",
   "id": "049c8077",
   "metadata": {},
   "source": [
    "## Дерево решений"
   ]
  },
  {
   "cell_type": "code",
   "execution_count": 14,
   "id": "98bc8035",
   "metadata": {},
   "outputs": [
    {
     "data": {
      "text/html": [
       "<style>#sk-container-id-2 {color: black;background-color: white;}#sk-container-id-2 pre{padding: 0;}#sk-container-id-2 div.sk-toggleable {background-color: white;}#sk-container-id-2 label.sk-toggleable__label {cursor: pointer;display: block;width: 100%;margin-bottom: 0;padding: 0.3em;box-sizing: border-box;text-align: center;}#sk-container-id-2 label.sk-toggleable__label-arrow:before {content: \"▸\";float: left;margin-right: 0.25em;color: #696969;}#sk-container-id-2 label.sk-toggleable__label-arrow:hover:before {color: black;}#sk-container-id-2 div.sk-estimator:hover label.sk-toggleable__label-arrow:before {color: black;}#sk-container-id-2 div.sk-toggleable__content {max-height: 0;max-width: 0;overflow: hidden;text-align: left;background-color: #f0f8ff;}#sk-container-id-2 div.sk-toggleable__content pre {margin: 0.2em;color: black;border-radius: 0.25em;background-color: #f0f8ff;}#sk-container-id-2 input.sk-toggleable__control:checked~div.sk-toggleable__content {max-height: 200px;max-width: 100%;overflow: auto;}#sk-container-id-2 input.sk-toggleable__control:checked~label.sk-toggleable__label-arrow:before {content: \"▾\";}#sk-container-id-2 div.sk-estimator input.sk-toggleable__control:checked~label.sk-toggleable__label {background-color: #d4ebff;}#sk-container-id-2 div.sk-label input.sk-toggleable__control:checked~label.sk-toggleable__label {background-color: #d4ebff;}#sk-container-id-2 input.sk-hidden--visually {border: 0;clip: rect(1px 1px 1px 1px);clip: rect(1px, 1px, 1px, 1px);height: 1px;margin: -1px;overflow: hidden;padding: 0;position: absolute;width: 1px;}#sk-container-id-2 div.sk-estimator {font-family: monospace;background-color: #f0f8ff;border: 1px dotted black;border-radius: 0.25em;box-sizing: border-box;margin-bottom: 0.5em;}#sk-container-id-2 div.sk-estimator:hover {background-color: #d4ebff;}#sk-container-id-2 div.sk-parallel-item::after {content: \"\";width: 100%;border-bottom: 1px solid gray;flex-grow: 1;}#sk-container-id-2 div.sk-label:hover label.sk-toggleable__label {background-color: #d4ebff;}#sk-container-id-2 div.sk-serial::before {content: \"\";position: absolute;border-left: 1px solid gray;box-sizing: border-box;top: 0;bottom: 0;left: 50%;z-index: 0;}#sk-container-id-2 div.sk-serial {display: flex;flex-direction: column;align-items: center;background-color: white;padding-right: 0.2em;padding-left: 0.2em;position: relative;}#sk-container-id-2 div.sk-item {position: relative;z-index: 1;}#sk-container-id-2 div.sk-parallel {display: flex;align-items: stretch;justify-content: center;background-color: white;position: relative;}#sk-container-id-2 div.sk-item::before, #sk-container-id-2 div.sk-parallel-item::before {content: \"\";position: absolute;border-left: 1px solid gray;box-sizing: border-box;top: 0;bottom: 0;left: 50%;z-index: -1;}#sk-container-id-2 div.sk-parallel-item {display: flex;flex-direction: column;z-index: 1;position: relative;background-color: white;}#sk-container-id-2 div.sk-parallel-item:first-child::after {align-self: flex-end;width: 50%;}#sk-container-id-2 div.sk-parallel-item:last-child::after {align-self: flex-start;width: 50%;}#sk-container-id-2 div.sk-parallel-item:only-child::after {width: 0;}#sk-container-id-2 div.sk-dashed-wrapped {border: 1px dashed gray;margin: 0 0.4em 0.5em 0.4em;box-sizing: border-box;padding-bottom: 0.4em;background-color: white;}#sk-container-id-2 div.sk-label label {font-family: monospace;font-weight: bold;display: inline-block;line-height: 1.2em;}#sk-container-id-2 div.sk-label-container {text-align: center;}#sk-container-id-2 div.sk-container {/* jupyter's `normalize.less` sets `[hidden] { display: none; }` but bootstrap.min.css set `[hidden] { display: none !important; }` so we also need the `!important` here to be able to override the default hidden behavior on the sphinx rendered scikit-learn.org. See: https://github.com/scikit-learn/scikit-learn/issues/21755 */display: inline-block !important;position: relative;}#sk-container-id-2 div.sk-text-repr-fallback {display: none;}</style><div id=\"sk-container-id-2\" class=\"sk-top-container\"><div class=\"sk-text-repr-fallback\"><pre>DecisionTreeRegressor(max_depth=3)</pre><b>In a Jupyter environment, please rerun this cell to show the HTML representation or trust the notebook. <br />On GitHub, the HTML representation is unable to render, please try loading this page with nbviewer.org.</b></div><div class=\"sk-container\" hidden><div class=\"sk-item\"><div class=\"sk-estimator sk-toggleable\"><input class=\"sk-toggleable__control sk-hidden--visually\" id=\"sk-estimator-id-2\" type=\"checkbox\" checked><label for=\"sk-estimator-id-2\" class=\"sk-toggleable__label sk-toggleable__label-arrow\">DecisionTreeRegressor</label><div class=\"sk-toggleable__content\"><pre>DecisionTreeRegressor(max_depth=3)</pre></div></div></div></div></div>"
      ],
      "text/plain": [
       "DecisionTreeRegressor(max_depth=3)"
      ]
     },
     "execution_count": 14,
     "metadata": {},
     "output_type": "execute_result"
    }
   ],
   "source": [
    "dt_none = DecisionTreeRegressor(max_depth=3)\n",
    "dt_none.fit(X_train, y_train)"
   ]
  },
  {
   "cell_type": "code",
   "execution_count": 15,
   "id": "3671b2e3",
   "metadata": {},
   "outputs": [
    {
     "data": {
      "text/plain": [
       "[Text(0.5, 0.75, 'X[1] <= 0.0\\nsquared_error = 0.121\\nsamples = 2276\\nvalue = 0.141'),\n",
       " Text(0.25, 0.25, 'squared_error = 0.0\\nsamples = 320\\nvalue = 1.0'),\n",
       " Text(0.75, 0.25, 'squared_error = 0.0\\nsamples = 1956\\nvalue = 0.0')]"
      ]
     },
     "execution_count": 15,
     "metadata": {},
     "output_type": "execute_result"
    },
    {
     "data": {
      "image/png": "[encoded data removed]",
      "text/plain": [
       "<Figure size 640x480 with 1 Axes>"
      ]
     },
     "metadata": {},
     "output_type": "display_data"
    }
   ],
   "source": [
    "tree.plot_tree(dt_none)"
   ]
  },
  {
   "cell_type": "code",
   "execution_count": 16,
   "id": "63afc9dc",
   "metadata": {},
   "outputs": [
    {
     "data": {
      "text/html": [
       "<style>#sk-container-id-3 {color: black;background-color: white;}#sk-container-id-3 pre{padding: 0;}#sk-container-id-3 div.sk-toggleable {background-color: white;}#sk-container-id-3 label.sk-toggleable__label {cursor: pointer;display: block;width: 100%;margin-bottom: 0;padding: 0.3em;box-sizing: border-box;text-align: center;}#sk-container-id-3 label.sk-toggleable__label-arrow:before {content: \"▸\";float: left;margin-right: 0.25em;color: #696969;}#sk-container-id-3 label.sk-toggleable__label-arrow:hover:before {color: black;}#sk-container-id-3 div.sk-estimator:hover label.sk-toggleable__label-arrow:before {color: black;}#sk-container-id-3 div.sk-toggleable__content {max-height: 0;max-width: 0;overflow: hidden;text-align: left;background-color: #f0f8ff;}#sk-container-id-3 div.sk-toggleable__content pre {margin: 0.2em;color: black;border-radius: 0.25em;background-color: #f0f8ff;}#sk-container-id-3 input.sk-toggleable__control:checked~div.sk-toggleable__content {max-height: 200px;max-width: 100%;overflow: auto;}#sk-container-id-3 input.sk-toggleable__control:checked~label.sk-toggleable__label-arrow:before {content: \"▾\";}#sk-container-id-3 div.sk-estimator input.sk-toggleable__control:checked~label.sk-toggleable__label {background-color: #d4ebff;}#sk-container-id-3 div.sk-label input.sk-toggleable__control:checked~label.sk-toggleable__label {background-color: #d4ebff;}#sk-container-id-3 input.sk-hidden--visually {border: 0;clip: rect(1px 1px 1px 1px);clip: rect(1px, 1px, 1px, 1px);height: 1px;margin: -1px;overflow: hidden;padding: 0;position: absolute;width: 1px;}#sk-container-id-3 div.sk-estimator {font-family: monospace;background-color: #f0f8ff;border: 1px dotted black;border-radius: 0.25em;box-sizing: border-box;margin-bottom: 0.5em;}#sk-container-id-3 div.sk-estimator:hover {background-color: #d4ebff;}#sk-container-id-3 div.sk-parallel-item::after {content: \"\";width: 100%;border-bottom: 1px solid gray;flex-grow: 1;}#sk-container-id-3 div.sk-label:hover label.sk-toggleable__label {background-color: #d4ebff;}#sk-container-id-3 div.sk-serial::before {content: \"\";position: absolute;border-left: 1px solid gray;box-sizing: border-box;top: 0;bottom: 0;left: 50%;z-index: 0;}#sk-container-id-3 div.sk-serial {display: flex;flex-direction: column;align-items: center;background-color: white;padding-right: 0.2em;padding-left: 0.2em;position: relative;}#sk-container-id-3 div.sk-item {position: relative;z-index: 1;}#sk-container-id-3 div.sk-parallel {display: flex;align-items: stretch;justify-content: center;background-color: white;position: relative;}#sk-container-id-3 div.sk-item::before, #sk-container-id-3 div.sk-parallel-item::before {content: \"\";position: absolute;border-left: 1px solid gray;box-sizing: border-box;top: 0;bottom: 0;left: 50%;z-index: -1;}#sk-container-id-3 div.sk-parallel-item {display: flex;flex-direction: column;z-index: 1;position: relative;background-color: white;}#sk-container-id-3 div.sk-parallel-item:first-child::after {align-self: flex-end;width: 50%;}#sk-container-id-3 div.sk-parallel-item:last-child::after {align-self: flex-start;width: 50%;}#sk-container-id-3 div.sk-parallel-item:only-child::after {width: 0;}#sk-container-id-3 div.sk-dashed-wrapped {border: 1px dashed gray;margin: 0 0.4em 0.5em 0.4em;box-sizing: border-box;padding-bottom: 0.4em;background-color: white;}#sk-container-id-3 div.sk-label label {font-family: monospace;font-weight: bold;display: inline-block;line-height: 1.2em;}#sk-container-id-3 div.sk-label-container {text-align: center;}#sk-container-id-3 div.sk-container {/* jupyter's `normalize.less` sets `[hidden] { display: none; }` but bootstrap.min.css set `[hidden] { display: none !important; }` so we also need the `!important` here to be able to override the default hidden behavior on the sphinx rendered scikit-learn.org. See: https://github.com/scikit-learn/scikit-learn/issues/21755 */display: inline-block !important;position: relative;}#sk-container-id-3 div.sk-text-repr-fallback {display: none;}</style><div id=\"sk-container-id-3\" class=\"sk-top-container\"><div class=\"sk-text-repr-fallback\"><pre>DecisionTreeClassifier(random_state=1)</pre><b>In a Jupyter environment, please rerun this cell to show the HTML representation or trust the notebook. <br />On GitHub, the HTML representation is unable to render, please try loading this page with nbviewer.org.</b></div><div class=\"sk-container\" hidden><div class=\"sk-item\"><div class=\"sk-estimator sk-toggleable\"><input class=\"sk-toggleable__control sk-hidden--visually\" id=\"sk-estimator-id-3\" type=\"checkbox\" checked><label for=\"sk-estimator-id-3\" class=\"sk-toggleable__label sk-toggleable__label-arrow\">DecisionTreeClassifier</label><div class=\"sk-toggleable__content\"><pre>DecisionTreeClassifier(random_state=1)</pre></div></div></div></div></div>"
      ],
      "text/plain": [
       "DecisionTreeClassifier(random_state=1)"
      ]
     },
     "execution_count": 16,
     "metadata": {},
     "output_type": "execute_result"
    }
   ],
   "source": [
    "clf = DecisionTreeClassifier(random_state=1)\n",
    "clf.fit(X_train, y_train)"
   ]
  },
  {
   "cell_type": "code",
   "execution_count": 17,
   "id": "1e3e78ab",
   "metadata": {},
   "outputs": [],
   "source": [
    "def test_model(model):\n",
    "    print(\"mean_absolute_error:\",\n",
    "          mean_absolute_error(y_test, model.predict(X_test)))\n",
    "    print(\"median_absolute_error:\",\n",
    "          median_absolute_error(y_test, model.predict(X_test)))\n",
    "    print(\"r2_score:\",\n",
    "          r2_score(y_test, model.predict(X_test)))"
   ]
  },
  {
   "cell_type": "code",
   "execution_count": 18,
   "id": "b30d94ce",
   "metadata": {},
   "outputs": [
    {
     "name": "stdout",
     "output_type": "stream",
     "text": [
      "mean_absolute_error: 0.0017574692442882249\n",
      "median_absolute_error: 0.0\n",
      "r2_score: 0.9870339987239085\n"
     ]
    }
   ],
   "source": [
    "test_model(dt_none)"
   ]
  },
  {
   "cell_type": "code",
   "execution_count": 19,
   "id": "0c15e866",
   "metadata": {
    "scrolled": true
   },
   "outputs": [
    {
     "data": {
      "text/html": [
       "<pre>|--- memSize <= 0.00\n",
       "|   |--- value: [1.00]\n",
       "|--- memSize >  0.00\n",
       "|   |--- value: [0.00]\n",
       "</pre>"
      ],
      "text/plain": [
       "<IPython.core.display.HTML object>"
      ]
     },
     "execution_count": 19,
     "metadata": {},
     "output_type": "execute_result"
    }
   ],
   "source": [
    "from IPython.core.display import HTML\n",
    "from sklearn.tree import export_text\n",
    "tree_rules = export_text(dt_none, feature_names=list(X.columns))\n",
    "HTML('<pre>' + tree_rules + '</pre>')"
   ]
  },
  {
   "cell_type": "code",
   "execution_count": 20,
   "id": "e46004d0",
   "metadata": {},
   "outputs": [],
   "source": [
    "# Визуализация дерева\n",
    "def get_png_tree(tree_model_param, feature_names_param):\n",
    "    dot_data = StringIO()\n",
    "    export_graphviz(tree_model_param, out_file=dot_data, feature_names=feature_names_param,\n",
    "                    filled=True, rounded=True, special_characters=True)\n",
    "    graph = pydotplus.graph_from_dot_data(dot_data.getvalue())\n",
    "    return graph.create_png()"
   ]
  },
  {
   "cell_type": "code",
   "execution_count": 21,
   "id": "cc6ca03b",
   "metadata": {},
   "outputs": [
    {
     "data": {
      "image/svg+xml": [
       "<?xml version=\"1.0\" encoding=\"UTF-8\" standalone=\"no\"?>\n",
       "<!DOCTYPE svg PUBLIC \"-//W3C//DTD SVG 1.1//EN\"\n",
       " \"http://www.w3.org/Graphics/SVG/1.1/DTD/svg11.dtd\">\n",
       "<!-- Generated by graphviz version 8.0.3 (20230416.2022)\n",
       " -->\n",
       "<!-- Title: Tree Pages: 1 -->\n",
       "<svg width=\"262pt\" height=\"161pt\"\n",
       " viewBox=\"0.00 0.00 261.50 161.00\" xmlns=\"http://www.w3.org/2000/svg\" xmlns:xlink=\"http://www.w3.org/1999/xlink\">\n",
       "<g id=\"graph0\" class=\"graph\" transform=\"scale(1 1) rotate(0) translate(4 157)\">\n",
       "<title>Tree</title>\n",
       "<polygon fill=\"white\" stroke=\"none\" points=\"-4,4 -4,-157 257.5,-157 257.5,4 -4,4\"/>\n",
       "<!-- 0 -->\n",
       "<g id=\"node1\" class=\"node\">\n",
       "<title>0</title>\n",
       "<path fill=\"#e99659\" stroke=\"black\" d=\"M181.5,-153C181.5,-153 67.5,-153 67.5,-153 61.5,-153 55.5,-147 55.5,-141 55.5,-141 55.5,-101 55.5,-101 55.5,-95 61.5,-89 67.5,-89 67.5,-89 181.5,-89 181.5,-89 187.5,-89 193.5,-95 193.5,-101 193.5,-101 193.5,-141 193.5,-141 193.5,-147 187.5,-153 181.5,-153\"/>\n",
       "<text text-anchor=\"start\" x=\"94\" y=\"-138.8\" font-family=\"Helvetica,sans-Serif\" font-size=\"14.00\">X</text>\n",
       "<text text-anchor=\"start\" x=\"104\" y=\"-138.8\" font-family=\"Helvetica,sans-Serif\" baseline-shift=\"sub\" font-size=\"14.00\">2</text>\n",
       "<text text-anchor=\"start\" x=\"111\" y=\"-138.8\" font-family=\"Helvetica,sans-Serif\" font-size=\"14.00\"> ≤ 16.0</text>\n",
       "<text text-anchor=\"start\" x=\"87\" y=\"-124.8\" font-family=\"Helvetica,sans-Serif\" font-size=\"14.00\">gini = 0.242</text>\n",
       "<text text-anchor=\"start\" x=\"73\" y=\"-110.8\" font-family=\"Helvetica,sans-Serif\" font-size=\"14.00\">samples = 2276</text>\n",
       "<text text-anchor=\"start\" x=\"63.5\" y=\"-96.8\" font-family=\"Helvetica,sans-Serif\" font-size=\"14.00\">value = [1956, 320]</text>\n",
       "</g>\n",
       "<!-- 1 -->\n",
       "<g id=\"node2\" class=\"node\">\n",
       "<title>1</title>\n",
       "<path fill=\"#399de5\" stroke=\"black\" d=\"M101,-53C101,-53 12,-53 12,-53 6,-53 0,-47 0,-41 0,-41 0,-12 0,-12 0,-6 6,0 12,0 12,0 101,0 101,0 107,0 113,-6 113,-12 113,-12 113,-41 113,-41 113,-47 107,-53 101,-53\"/>\n",
       "<text text-anchor=\"start\" x=\"27.5\" y=\"-37.8\" font-family=\"Helvetica,sans-Serif\" font-size=\"14.00\">gini = 0.0</text>\n",
       "<text text-anchor=\"start\" x=\"9\" y=\"-22.8\" font-family=\"Helvetica,sans-Serif\" font-size=\"14.00\">samples = 320</text>\n",
       "<text text-anchor=\"start\" x=\"8\" y=\"-7.8\" font-family=\"Helvetica,sans-Serif\" font-size=\"14.00\">value = [0, 320]</text>\n",
       "</g>\n",
       "<!-- 0&#45;&gt;1 -->\n",
       "<g id=\"edge1\" class=\"edge\">\n",
       "<title>0&#45;&gt;1</title>\n",
       "<path fill=\"none\" stroke=\"black\" d=\"M101.48,-88.68C95.19,-80.13 88.33,-70.8 81.92,-62.08\"/>\n",
       "<polygon fill=\"black\" stroke=\"black\" points=\"84.17,-60.24 75.43,-54.25 78.53,-64.38 84.17,-60.24\"/>\n",
       "<text text-anchor=\"middle\" x=\"71.66\" y=\"-74.26\" font-family=\"Helvetica,sans-Serif\" font-size=\"14.00\">True</text>\n",
       "</g>\n",
       "<!-- 2 -->\n",
       "<g id=\"node3\" class=\"node\">\n",
       "<title>2</title>\n",
       "<path fill=\"#e58139\" stroke=\"black\" d=\"M241.5,-53C241.5,-53 143.5,-53 143.5,-53 137.5,-53 131.5,-47 131.5,-41 131.5,-41 131.5,-12 131.5,-12 131.5,-6 137.5,0 143.5,0 143.5,0 241.5,0 241.5,0 247.5,0 253.5,-6 253.5,-12 253.5,-12 253.5,-41 253.5,-41 253.5,-47 247.5,-53 241.5,-53\"/>\n",
       "<text text-anchor=\"start\" x=\"163.5\" y=\"-37.8\" font-family=\"Helvetica,sans-Serif\" font-size=\"14.00\">gini = 0.0</text>\n",
       "<text text-anchor=\"start\" x=\"141\" y=\"-22.8\" font-family=\"Helvetica,sans-Serif\" font-size=\"14.00\">samples = 1956</text>\n",
       "<text text-anchor=\"start\" x=\"139.5\" y=\"-7.8\" font-family=\"Helvetica,sans-Serif\" font-size=\"14.00\">value = [1956, 0]</text>\n",
       "</g>\n",
       "<!-- 0&#45;&gt;2 -->\n",
       "<g id=\"edge2\" class=\"edge\">\n",
       "<title>0&#45;&gt;2</title>\n",
       "<path fill=\"none\" stroke=\"black\" d=\"M147.52,-88.68C153.81,-80.13 160.67,-70.8 167.08,-62.08\"/>\n",
       "<polygon fill=\"black\" stroke=\"black\" points=\"170.47,-64.38 173.57,-54.25 164.83,-60.24 170.47,-64.38\"/>\n",
       "<text text-anchor=\"middle\" x=\"177.34\" y=\"-74.26\" font-family=\"Helvetica,sans-Serif\" font-size=\"14.00\">False</text>\n",
       "</g>\n",
       "</g>\n",
       "</svg>\n"
      ],
      "text/plain": [
       "<graphviz.sources.Source at 0x193a72d29d0>"
      ]
     },
     "execution_count": 21,
     "metadata": {},
     "output_type": "execute_result"
    }
   ],
   "source": [
    "dot_data = export_graphviz(clf, out_file=None,  \n",
    "                           filled=True, rounded=True, special_characters=True,max_depth=3)  \n",
    "graph = graphviz.Source(dot_data)  \n",
    "graph"
   ]
  },
  {
   "cell_type": "markdown",
   "id": "c5c30918",
   "metadata": {},
   "source": [
    "## Важность признаков"
   ]
  },
  {
   "cell_type": "code",
   "execution_count": 22,
   "id": "b55f147a",
   "metadata": {},
   "outputs": [
    {
     "data": {
      "text/plain": [
       "[('releaseYear', 0.0),\n",
       " ('memSize', 0.0),\n",
       " ('memBusWidth', 1.0),\n",
       " ('gpuClock', 0.0),\n",
       " ('memClock', 0.0),\n",
       " ('unifiedShader', 0.0),\n",
       " ('tmu', 0.0),\n",
       " ('rop', 0.0),\n",
       " ('pixelShader', 0.0),\n",
       " ('vertexShader', 0.0)]"
      ]
     },
     "execution_count": 22,
     "metadata": {},
     "output_type": "execute_result"
    }
   ],
   "source": [
    "list(zip(X_train.columns.values, clf.feature_importances_))"
   ]
  },
  {
   "cell_type": "code",
   "execution_count": 23,
   "id": "0957f1cb",
   "metadata": {},
   "outputs": [],
   "source": [
    "from operator import itemgetter\n",
    "\n",
    "def draw_feature_importances(tree_model, X_dataset, figsize=(18,5)):\n",
    "    \"\"\"\n",
    "    Вывод важности признаков в виде графика\n",
    "    \"\"\"\n",
    "    # Сортировка значений важности признаков по убыванию\n",
    "    list_to_sort = list(zip(X_dataset.columns.values, tree_model.feature_importances_))\n",
    "    sorted_list = sorted(list_to_sort, key=itemgetter(1), reverse = True)\n",
    "    # Названия признаков\n",
    "    labels = [x for x,_ in sorted_list]\n",
    "    # Важности признаков\n",
    "    data = [x for _,x in sorted_list]\n",
    "    # Вывод графика\n",
    "    fig, ax = plt.subplots(figsize=figsize)\n",
    "    ind = np.arange(len(labels))\n",
    "    plt.bar(ind, data)\n",
    "    plt.xticks(ind, labels, rotation='vertical')\n",
    "    # Вывод значений\n",
    "    for a,b in zip(ind, data):\n",
    "        plt.text(a-0.05, b+0.01, str(round(b,3)))\n",
    "    plt.show()\n",
    "    return labels, data"
   ]
  },
  {
   "cell_type": "code",
   "execution_count": 24,
   "id": "4038f5fc",
   "metadata": {},
   "outputs": [
    {
     "data": {
      "image/png": "[encoded data removed]",
      "text/plain": [
       "<Figure size 1800x500 with 1 Axes>"
      ]
     },
     "metadata": {},
     "output_type": "display_data"
    }
   ],
   "source": [
    "dt_fl, dt_fd = draw_feature_importances(clf, X_train)"
   ]
  },
  {
   "cell_type": "code",
   "execution_count": null,
   "id": "c7cf9b24",
   "metadata": {},
   "outputs": [],
   "source": []
  }
 ],
 "metadata": {
  "kernelspec": {
   "display_name": "Python 3 (ipykernel)",
   "language": "python",
   "name": "python3"
  },
  "language_info": {
   "codemirror_mode": {
    "name": "ipython",
    "version": 3
   },
   "file_extension": ".py",
   "mimetype": "text/x-python",
   "name": "python",
   "nbconvert_exporter": "python",
   "pygments_lexer": "ipython3",
   "version": "3.10.7"
  }
 },
 "nbformat": 4,
 "nbformat_minor": 5
}
